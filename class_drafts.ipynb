{
 "cells": [
  {
   "cell_type": "markdown",
   "metadata": {},
   "source": [
    "# die class"
   ]
  },
  {
   "cell_type": "code",
   "execution_count": 2,
   "metadata": {},
   "outputs": [],
   "source": [
    "import pandas as pd\n",
    "import numpy as np"
   ]
  },
  {
   "cell_type": "code",
   "execution_count": 3,
   "metadata": {},
   "outputs": [],
   "source": [
    "\n",
    "        \n",
    "class Die:\n",
    "\n",
    "    '''\n",
    "    Roll a weighted die.\n",
    "    ---\n",
    "    \n",
    "    Methods:\n",
    "    ---\n",
    "    __init__: This is the initializer.\n",
    "    The user must input a numpy array with faced for the die.\n",
    "    \n",
    "    change_weight: changes the weight of one face of the die.\n",
    "        \n",
    "\n",
    "    roll_die:   This rolls the die a given number of times.\n",
    "                The results for roll_die will change as if the weights for the die are changed.\n",
    "    \n",
    "    \n",
    "    get_current_state: prints a data frame with the sides of the die as an index and \n",
    "    the assigned weights for each side as the data.\n",
    " \n",
    "\n",
    "\n",
    "    '''\n",
    "\n",
    "    def __init__(self, N):\n",
    "        '''\n",
    "        This is the initializer. It sets up the die with a given number of sides and adds a weight of 1 for each side of the die.\n",
    "        A private dataframe is also created. This dataframe has the sides of the die as an indez and the weights as the data in a column.\n",
    "\n",
    "        ---\n",
    "        inputs:\n",
    "        N: N is the number of faces for a die.  \n",
    "        N must be a NumPy array with unique values. \n",
    "        This method will return errors if those conditions are not met.\n",
    "        '''\n",
    "        if not isinstance (N, np.ndarray):\n",
    "            raise TypeError(\"The N number of sides must be a NumPy array\")\n",
    "        if len(N) != len(np.unique(N)):\n",
    "            raise ValueError(\"The faces must be unique values\")\n",
    "        else:\n",
    "            self.faces = N\n",
    "        weights = [1 for _ in range(len(self.faces))]\n",
    "        self.__die_df = pd.DataFrame({            \n",
    "            'side': [n for n in self.faces],\n",
    "            'weights': weights\n",
    "        })\n",
    "        self.__die_df_index = self.__die_df.set_index(['side'])\n",
    "\n",
    "    def change_weight(self, face, new_weight):\n",
    "        '''\n",
    "        This changes the weight of one specified side of the die.\n",
    "        ---\n",
    "        inputs:\n",
    "\n",
    "        face:   The face from your die that you want to change the weight of.\n",
    "                This must be in the initial NumPy array N.\n",
    "                This method will throw an error if the face listed is not in the original numpy array N.\n",
    "\n",
    "        new_weight: This is the new weight you are assigning to a side. \n",
    "                    This must be an integer or a float. \n",
    "                    An error will be returned if it does not meet those conditions.\n",
    "        '''\n",
    "        if face not in self.faces:\n",
    "            raise IndexError(\"The face for which the weight is altered needs to be one of the existing faces\")\n",
    "        if not isinstance(new_weight,(float,int)):\n",
    "            raise TypeError(\"The new weight must be a float or integer\")\n",
    "        else:\n",
    "            self.__die_df_index.loc[face]= new_weight\n",
    "\n",
    "    def roll_dice(self, nrolls=1):\n",
    "        '''\n",
    "        Roll_die calculates the probability for each side of the die from the assigned weights.\n",
    "        It then takes a sample of the sides using the calculated probabilities, and prints the results of the rolls as a list.\n",
    "        ---\n",
    "        inputs:\n",
    "        nrolls: This is set to one unless the user reassigns it. \n",
    "                Nrolls should be an integer.\n",
    "        '''\n",
    "        results = []\n",
    "        die_probs = [i/sum(self.__die_df['weights']) for i in self.__die_df['weights']]\n",
    "        for i in range(nrolls):\n",
    "            result = self.__die_df.side.sample(weights=die_probs).values[0].tolist()\n",
    "            results.append(result)\n",
    "        print(results)\n",
    "    \n",
    "    def get_current_state(self):\n",
    "        '''\n",
    "        get_current_state prints a data frame with the sides of the die as an index and the assigned weights for each side as the data.\n",
    "        ---\n",
    "        inputs: none\n",
    "        '''\n",
    "        return self.__die_df_index\n",
    "    "
   ]
  },
  {
   "cell_type": "code",
   "execution_count": 4,
   "metadata": {},
   "outputs": [],
   "source": [
    "face1 = [1,2,3,4]\n",
    "face2 = [1,2,3,4]\n",
    "face1 = np.array(face1)\n",
    "face2 = np.array(face2)\n",
    "die1 = Die(face1)\n",
    "die2 = Die(face2)"
   ]
  },
  {
   "cell_type": "code",
   "execution_count": 11,
   "metadata": {},
   "outputs": [
    {
     "data": {
      "text/html": [
       "<div>\n",
       "<style scoped>\n",
       "    .dataframe tbody tr th:only-of-type {\n",
       "        vertical-align: middle;\n",
       "    }\n",
       "\n",
       "    .dataframe tbody tr th {\n",
       "        vertical-align: top;\n",
       "    }\n",
       "\n",
       "    .dataframe thead th {\n",
       "        text-align: right;\n",
       "    }\n",
       "</style>\n",
       "<table border=\"1\" class=\"dataframe\">\n",
       "  <thead>\n",
       "    <tr style=\"text-align: right;\">\n",
       "      <th></th>\n",
       "      <th>weights</th>\n",
       "    </tr>\n",
       "    <tr>\n",
       "      <th>side</th>\n",
       "      <th></th>\n",
       "    </tr>\n",
       "  </thead>\n",
       "  <tbody>\n",
       "    <tr>\n",
       "      <th>1</th>\n",
       "      <td>100</td>\n",
       "    </tr>\n",
       "    <tr>\n",
       "      <th>2</th>\n",
       "      <td>1</td>\n",
       "    </tr>\n",
       "    <tr>\n",
       "      <th>3</th>\n",
       "      <td>1</td>\n",
       "    </tr>\n",
       "    <tr>\n",
       "      <th>4</th>\n",
       "      <td>1</td>\n",
       "    </tr>\n",
       "  </tbody>\n",
       "</table>\n",
       "</div>"
      ],
      "text/plain": [
       "      weights\n",
       "side         \n",
       "1         100\n",
       "2           1\n",
       "3           1\n",
       "4           1"
      ]
     },
     "execution_count": 11,
     "metadata": {},
     "output_type": "execute_result"
    }
   ],
   "source": [
    "die1.change_weight(1,100)\n",
    "die2.change_weight(2,100)\n",
    "die1_1 = die1.get_current_state()\n",
    "die1_1"
   ]
  },
  {
   "cell_type": "code",
   "execution_count": 12,
   "metadata": {},
   "outputs": [
    {
     "data": {
      "text/html": [
       "<div>\n",
       "<style scoped>\n",
       "    .dataframe tbody tr th:only-of-type {\n",
       "        vertical-align: middle;\n",
       "    }\n",
       "\n",
       "    .dataframe tbody tr th {\n",
       "        vertical-align: top;\n",
       "    }\n",
       "\n",
       "    .dataframe thead th {\n",
       "        text-align: right;\n",
       "    }\n",
       "</style>\n",
       "<table border=\"1\" class=\"dataframe\">\n",
       "  <thead>\n",
       "    <tr style=\"text-align: right;\">\n",
       "      <th></th>\n",
       "      <th>weights</th>\n",
       "    </tr>\n",
       "    <tr>\n",
       "      <th>side</th>\n",
       "      <th></th>\n",
       "    </tr>\n",
       "  </thead>\n",
       "  <tbody>\n",
       "    <tr>\n",
       "      <th>1</th>\n",
       "      <td>1</td>\n",
       "    </tr>\n",
       "    <tr>\n",
       "      <th>2</th>\n",
       "      <td>100</td>\n",
       "    </tr>\n",
       "    <tr>\n",
       "      <th>3</th>\n",
       "      <td>1</td>\n",
       "    </tr>\n",
       "    <tr>\n",
       "      <th>4</th>\n",
       "      <td>1</td>\n",
       "    </tr>\n",
       "  </tbody>\n",
       "</table>\n",
       "</div>"
      ],
      "text/plain": [
       "      weights\n",
       "side         \n",
       "1           1\n",
       "2         100\n",
       "3           1\n",
       "4           1"
      ]
     },
     "execution_count": 12,
     "metadata": {},
     "output_type": "execute_result"
    }
   ],
   "source": [
    "die2_1 =die2.get_current_state()\n",
    "die2_1"
   ]
  },
  {
   "cell_type": "code",
   "execution_count": 13,
   "metadata": {},
   "outputs": [],
   "source": [
    "dielist = [die1_1,die2_1]"
   ]
  },
  {
   "cell_type": "code",
   "execution_count": 14,
   "metadata": {},
   "outputs": [
    {
     "data": {
      "text/plain": [
       "[      weights\n",
       " side         \n",
       " 1         100\n",
       " 2           1\n",
       " 3           1\n",
       " 4           1,\n",
       "       weights\n",
       " side         \n",
       " 1           1\n",
       " 2         100\n",
       " 3           1\n",
       " 4           1]"
      ]
     },
     "execution_count": 14,
     "metadata": {},
     "output_type": "execute_result"
    }
   ],
   "source": [
    "dielist"
   ]
  },
  {
   "cell_type": "code",
   "execution_count": 15,
   "metadata": {},
   "outputs": [
    {
     "data": {
      "text/plain": [
       "[[0.970873786407767,\n",
       "  0.009708737864077669,\n",
       "  0.009708737864077669,\n",
       "  0.009708737864077669],\n",
       " [0.009708737864077669,\n",
       "  0.970873786407767,\n",
       "  0.009708737864077669,\n",
       "  0.009708737864077669]]"
      ]
     },
     "execution_count": 15,
     "metadata": {},
     "output_type": "execute_result"
    }
   ],
   "source": [
    "die_probs = list(range(len(dielist)))\n",
    "for x in range(0,len(dielist)):\n",
    "    die_probs[x] = [i/sum(dielist[x]['weights']) for i in dielist[x]['weights']]\n",
    "\n",
    "die_probs\n",
    "\n",
    "\n"
   ]
  },
  {
   "cell_type": "code",
   "execution_count": 17,
   "metadata": {},
   "outputs": [
    {
     "data": {
      "text/plain": [
       "[   side  die_probs\n",
       " 0     1   0.970874\n",
       " 1     2   0.009709\n",
       " 2     3   0.009709\n",
       " 3     4   0.009709,\n",
       "    side  die_probs\n",
       " 0     1   0.009709\n",
       " 1     2   0.970874\n",
       " 2     3   0.009709\n",
       " 3     4   0.009709]"
      ]
     },
     "execution_count": 17,
     "metadata": {},
     "output_type": "execute_result"
    }
   ],
   "source": [
    "newlist= list(range(len(dielist)))\n",
    "for y in range(len(dielist)):\n",
    "    newlist[y] = pd.DataFrame({'side':dielist[y].index.tolist(),\n",
    "\n",
    "                               'die_probs':die_probs[y]})\n",
    "newlist"
   ]
  },
  {
   "cell_type": "code",
   "execution_count": 7,
   "metadata": {},
   "outputs": [
    {
     "ename": "NameError",
     "evalue": "name 'dielist' is not defined",
     "output_type": "error",
     "traceback": [
      "\u001b[1;31m---------------------------------------------------------------------------\u001b[0m",
      "\u001b[1;31mNameError\u001b[0m                                 Traceback (most recent call last)",
      "Cell \u001b[1;32mIn[7], line 8\u001b[0m\n\u001b[0;32m      4\u001b[0m rolls \u001b[38;5;241m=\u001b[39m \u001b[38;5;241m5\u001b[39m\n\u001b[0;32m      7\u001b[0m results \u001b[38;5;241m=\u001b[39m []\n\u001b[1;32m----> 8\u001b[0m \u001b[38;5;28;01mfor\u001b[39;00m k \u001b[38;5;129;01min\u001b[39;00m \u001b[38;5;28mrange\u001b[39m(\u001b[38;5;28mlen\u001b[39m(\u001b[43mdielist\u001b[49m)):\n\u001b[0;32m     10\u001b[0m     \u001b[38;5;28;01mfor\u001b[39;00m i \u001b[38;5;129;01min\u001b[39;00m \u001b[38;5;28mrange\u001b[39m(rolls):\n\u001b[0;32m     12\u001b[0m         result \u001b[38;5;241m=\u001b[39m newlist[k]\u001b[38;5;241m.\u001b[39mside\u001b[38;5;241m.\u001b[39msample(weights\u001b[38;5;241m=\u001b[39mdie_probs[k])\u001b[38;5;241m.\u001b[39mvalues[\u001b[38;5;241m0\u001b[39m]\u001b[38;5;241m.\u001b[39mtolist()\n",
      "\u001b[1;31mNameError\u001b[0m: name 'dielist' is not defined"
     ]
    }
   ],
   "source": [
    "\n",
    "\n",
    "test = newlist[1]\n",
    "\n",
    "\n",
    "rolls = 5\n",
    "\n",
    "\n",
    "results = []\n",
    "for k in range(len(dielist)):\n",
    "\n",
    "    for i in range(rolls):\n",
    "\n",
    "        result = newlist[k].side.sample(weights=die_probs[k]).values[0].tolist()\n",
    "        results.append(result)\n",
    "\n",
    "results"
   ]
  },
  {
   "cell_type": "code",
   "execution_count": 153,
   "metadata": {},
   "outputs": [
    {
     "data": {
      "text/plain": [
       "1"
      ]
     },
     "execution_count": 153,
     "metadata": {},
     "output_type": "execute_result"
    }
   ],
   "source": []
  },
  {
   "cell_type": "code",
   "execution_count": 155,
   "metadata": {},
   "outputs": [
    {
     "name": "stdout",
     "output_type": "stream",
     "text": [
      "[1, 1, 1, 1, 1, 2, 2, 2, 2, 2]\n"
     ]
    }
   ],
   "source": [
    "rolls = 5\n",
    "\n",
    "results= []\n",
    "for k in range(len(dielist)):\n",
    "    \n",
    "    \n",
    "    for i in range(rolls):\n",
    "\n",
    "        result = test.side.sample(weights=die_probs[k]).values[0].tolist()\n",
    "        results.append(result)\n",
    "\n",
    "print(results)"
   ]
  },
  {
   "cell_type": "code",
   "execution_count": 18,
   "metadata": {},
   "outputs": [
    {
     "name": "stdout",
     "output_type": "stream",
     "text": [
      "[[1, 1, 1, 1, 1], [2, 2, 2, 2, 2]]\n"
     ]
    }
   ],
   "source": [
    "rolls = 5\n",
    "\n",
    "results=  list(range(len(dielist)))\n",
    "for k in range(len(dielist)):\n",
    "    test = newlist[k]\n",
    "    results[k] = [test.side.sample(weights=die_probs[k]).values[0].tolist() for i in range(rolls)]\n",
    "\n",
    "print(results)"
   ]
  },
  {
   "cell_type": "code",
   "execution_count": 30,
   "metadata": {},
   "outputs": [
    {
     "data": {
      "text/html": [
       "<div>\n",
       "<style scoped>\n",
       "    .dataframe tbody tr th:only-of-type {\n",
       "        vertical-align: middle;\n",
       "    }\n",
       "\n",
       "    .dataframe tbody tr th {\n",
       "        vertical-align: top;\n",
       "    }\n",
       "\n",
       "    .dataframe thead th {\n",
       "        text-align: right;\n",
       "    }\n",
       "</style>\n",
       "<table border=\"1\" class=\"dataframe\">\n",
       "  <thead>\n",
       "    <tr style=\"text-align: right;\">\n",
       "      <th></th>\n",
       "      <th>0</th>\n",
       "      <th>1</th>\n",
       "    </tr>\n",
       "  </thead>\n",
       "  <tbody>\n",
       "    <tr>\n",
       "      <th>0</th>\n",
       "      <td>NaN</td>\n",
       "      <td>NaN</td>\n",
       "    </tr>\n",
       "    <tr>\n",
       "      <th>1</th>\n",
       "      <td>NaN</td>\n",
       "      <td>NaN</td>\n",
       "    </tr>\n",
       "    <tr>\n",
       "      <th>2</th>\n",
       "      <td>NaN</td>\n",
       "      <td>NaN</td>\n",
       "    </tr>\n",
       "    <tr>\n",
       "      <th>3</th>\n",
       "      <td>NaN</td>\n",
       "      <td>NaN</td>\n",
       "    </tr>\n",
       "    <tr>\n",
       "      <th>4</th>\n",
       "      <td>NaN</td>\n",
       "      <td>NaN</td>\n",
       "    </tr>\n",
       "  </tbody>\n",
       "</table>\n",
       "</div>"
      ],
      "text/plain": [
       "     0    1\n",
       "0  NaN  NaN\n",
       "1  NaN  NaN\n",
       "2  NaN  NaN\n",
       "3  NaN  NaN\n",
       "4  NaN  NaN"
      ]
     },
     "execution_count": 30,
     "metadata": {},
     "output_type": "execute_result"
    }
   ],
   "source": [
    "\n",
    "\n",
    "\n",
    "outcome = pd.DataFrame(columns = list(range(len(dielist))),\n",
    "                       index= list(range(rolls)),\n",
    "                       data = []\n",
    "                       )\n",
    "outcome\n",
    "\n"
   ]
  },
  {
   "cell_type": "code",
   "execution_count": 40,
   "metadata": {},
   "outputs": [
    {
     "data": {
      "text/plain": [
       "2"
      ]
     },
     "execution_count": 40,
     "metadata": {},
     "output_type": "execute_result"
    }
   ],
   "source": [
    "leng = len(outcome.columns)\n",
    "leng"
   ]
  },
  {
   "cell_type": "code",
   "execution_count": 42,
   "metadata": {},
   "outputs": [
    {
     "data": {
      "text/html": [
       "<div>\n",
       "<style scoped>\n",
       "    .dataframe tbody tr th:only-of-type {\n",
       "        vertical-align: middle;\n",
       "    }\n",
       "\n",
       "    .dataframe tbody tr th {\n",
       "        vertical-align: top;\n",
       "    }\n",
       "\n",
       "    .dataframe thead th {\n",
       "        text-align: right;\n",
       "    }\n",
       "</style>\n",
       "<table border=\"1\" class=\"dataframe\">\n",
       "  <thead>\n",
       "    <tr style=\"text-align: right;\">\n",
       "      <th></th>\n",
       "      <th>0</th>\n",
       "      <th>1</th>\n",
       "    </tr>\n",
       "    <tr>\n",
       "      <th>roll_number</th>\n",
       "      <th></th>\n",
       "      <th></th>\n",
       "    </tr>\n",
       "  </thead>\n",
       "  <tbody>\n",
       "    <tr>\n",
       "      <th>0</th>\n",
       "      <td>1</td>\n",
       "      <td>2</td>\n",
       "    </tr>\n",
       "    <tr>\n",
       "      <th>1</th>\n",
       "      <td>1</td>\n",
       "      <td>2</td>\n",
       "    </tr>\n",
       "    <tr>\n",
       "      <th>2</th>\n",
       "      <td>1</td>\n",
       "      <td>2</td>\n",
       "    </tr>\n",
       "    <tr>\n",
       "      <th>3</th>\n",
       "      <td>1</td>\n",
       "      <td>2</td>\n",
       "    </tr>\n",
       "    <tr>\n",
       "      <th>4</th>\n",
       "      <td>1</td>\n",
       "      <td>2</td>\n",
       "    </tr>\n",
       "  </tbody>\n",
       "</table>\n",
       "</div>"
      ],
      "text/plain": [
       "             0  1\n",
       "roll_number      \n",
       "0            1  2\n",
       "1            1  2\n",
       "2            1  2\n",
       "3            1  2\n",
       "4            1  2"
      ]
     },
     "execution_count": 42,
     "metadata": {},
     "output_type": "execute_result"
    }
   ],
   "source": [
    "for col in range(leng):\n",
    "    outcome[col] = results[col]\n",
    "outcome.index.name = 'roll_number'\n",
    "outcome"
   ]
  },
  {
   "cell_type": "code",
   "execution_count": null,
   "metadata": {},
   "outputs": [],
   "source": [
    "r = pd.DataFrame({})"
   ]
  },
  {
   "cell_type": "code",
   "execution_count": null,
   "metadata": {},
   "outputs": [],
   "source": [
    "book_list = pd.DataFrame({'book_name':[], 'book_rating':[]})\n",
    "book_list = pd.concat([self.book_list, new_book], ignore_index=True) \n",
    "                         "
   ]
  },
  {
   "cell_type": "code",
   "execution_count": 46,
   "metadata": {},
   "outputs": [],
   "source": [
    "class Game:\n",
    "    def __init__(self, die_list):\n",
    "        self.die_list = die_list\n",
    "    \n",
    "    def play (self, rolls):\n",
    "        die_probs = list(range(len(self.die_list)))\n",
    "        for x in range(0,len(self.die_list)):\n",
    "            die_probs[x] = [i/sum(self.die_list[x]['weights']) for i in self.die_list[x]['weights']]\n",
    "\n",
    "        newlist= list(range(len(self.die_list)))\n",
    "        for y in range(len(self.die_list)):\n",
    "            newlist[y] = pd.DataFrame({'side':self.die_list[y].index.tolist(),\n",
    "                               'die_probs':die_probs[y]})   \n",
    "\n",
    "        results=  list(range(len(dielist)))\n",
    "        for k in range(len(dielist)):\n",
    "            test = newlist[k]\n",
    "            results[k] = [test.side.sample(weights=die_probs[k]).values[0].tolist() for i in range(rolls)]\n",
    "    \n",
    "        self.__outcome = pd.DataFrame(columns = list(range(len(dielist))),\n",
    "                                index= list(range(rolls)),\n",
    "                                data = []\n",
    "                                 )\n",
    "        length =  len(self.__outcome.columns)\n",
    "        for col in range(length):\n",
    "            self.__outcome[col] = results[col]\n",
    "        self.__outcome.index.name = 'roll_number'\n",
    "\n",
    "    def show_last_play (self):\n",
    "        last_play = self.__outcome\n",
    "        return last_play\n",
    "    \n",
    "    \n"
   ]
  },
  {
   "cell_type": "code",
   "execution_count": 47,
   "metadata": {},
   "outputs": [],
   "source": [
    "game1 = Game(dielist)"
   ]
  },
  {
   "cell_type": "code",
   "execution_count": 48,
   "metadata": {},
   "outputs": [],
   "source": [
    "game1.play(6)"
   ]
  },
  {
   "cell_type": "code",
   "execution_count": 49,
   "metadata": {},
   "outputs": [
    {
     "data": {
      "text/html": [
       "<div>\n",
       "<style scoped>\n",
       "    .dataframe tbody tr th:only-of-type {\n",
       "        vertical-align: middle;\n",
       "    }\n",
       "\n",
       "    .dataframe tbody tr th {\n",
       "        vertical-align: top;\n",
       "    }\n",
       "\n",
       "    .dataframe thead th {\n",
       "        text-align: right;\n",
       "    }\n",
       "</style>\n",
       "<table border=\"1\" class=\"dataframe\">\n",
       "  <thead>\n",
       "    <tr style=\"text-align: right;\">\n",
       "      <th></th>\n",
       "      <th>0</th>\n",
       "      <th>1</th>\n",
       "    </tr>\n",
       "    <tr>\n",
       "      <th>roll_number</th>\n",
       "      <th></th>\n",
       "      <th></th>\n",
       "    </tr>\n",
       "  </thead>\n",
       "  <tbody>\n",
       "    <tr>\n",
       "      <th>0</th>\n",
       "      <td>1</td>\n",
       "      <td>3</td>\n",
       "    </tr>\n",
       "    <tr>\n",
       "      <th>1</th>\n",
       "      <td>1</td>\n",
       "      <td>2</td>\n",
       "    </tr>\n",
       "    <tr>\n",
       "      <th>2</th>\n",
       "      <td>1</td>\n",
       "      <td>2</td>\n",
       "    </tr>\n",
       "    <tr>\n",
       "      <th>3</th>\n",
       "      <td>1</td>\n",
       "      <td>2</td>\n",
       "    </tr>\n",
       "    <tr>\n",
       "      <th>4</th>\n",
       "      <td>1</td>\n",
       "      <td>2</td>\n",
       "    </tr>\n",
       "    <tr>\n",
       "      <th>5</th>\n",
       "      <td>2</td>\n",
       "      <td>2</td>\n",
       "    </tr>\n",
       "  </tbody>\n",
       "</table>\n",
       "</div>"
      ],
      "text/plain": [
       "             0  1\n",
       "roll_number      \n",
       "0            1  3\n",
       "1            1  2\n",
       "2            1  2\n",
       "3            1  2\n",
       "4            1  2\n",
       "5            2  2"
      ]
     },
     "execution_count": 49,
     "metadata": {},
     "output_type": "execute_result"
    }
   ],
   "source": [
    "game1.show_last_play()"
   ]
  },
  {
   "cell_type": "code",
   "execution_count": null,
   "metadata": {},
   "outputs": [],
   "source": [
    "class Analyzer:\n",
    "    def __init__:\n",
    "        pass"
   ]
  }
 ],
 "metadata": {
  "kernelspec": {
   "display_name": "Python 3",
   "language": "python",
   "name": "python3"
  },
  "language_info": {
   "codemirror_mode": {
    "name": "ipython",
    "version": 3
   },
   "file_extension": ".py",
   "mimetype": "text/x-python",
   "name": "python",
   "nbconvert_exporter": "python",
   "pygments_lexer": "ipython3",
   "version": "3.12.4"
  }
 },
 "nbformat": 4,
 "nbformat_minor": 2
}
