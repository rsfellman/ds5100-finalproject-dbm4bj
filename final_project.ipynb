{
 "cells": [
  {
   "cell_type": "markdown",
   "id": "45762487-d33f-486d-8e38-2cdea04e3528",
   "metadata": {},
   "source": [
    "# Final Project Report\n",
    "\n",
    "* Class: DS 5100\n",
    "* Student Name:\n",
    "* Student Net ID:\n",
    "* This URL: a URL to the notebook source of this document"
   ]
  },
  {
   "cell_type": "markdown",
   "id": "acf756c1-ecaa-41dc-b6ca-d566eb94560b",
   "metadata": {},
   "source": [
    "# Instructions\n",
    "\n",
    "Follow the instructions in the Final Project isntructions notebook and put evidence of your work in this notebook.\n",
    "\n",
    "Total points for each subsection under **Deliverables** and **Scenarios** are given in parentheses.\n",
    "\n",
    "Breakdowns of points within subsections are specified within subsection instructions as bulleted lists.\n",
    "\n",
    "This project is worth **50 points**."
   ]
  },
  {
   "cell_type": "markdown",
   "id": "89dc7a32-f682-4402-8c1e-b6ccdb3e0e39",
   "metadata": {},
   "source": [
    "# Deliverables"
   ]
  },
  {
   "cell_type": "markdown",
   "id": "d32cb273-9a40-4909-a7ce-51f6e4958d3c",
   "metadata": {},
   "source": [
    "## The Monte Carlo Module (10)\n",
    "\n",
    "- URL included, appropriately named (1).\n",
    "- Includes all three specified classes (3).\n",
    "- Includes at least all 12 specified methods (6; .5 each)."
   ]
  },
  {
   "cell_type": "markdown",
   "id": "f5f3b070-de9e-4de9-bfae-8974d184aa28",
   "metadata": {},
   "source": [
    "Put the URL to your GitHub repo here.\n",
    "\n",
    "Repo URL: [final project repo](https://github.com/rsfellman/ds5100-finalproject-dbm4bj/tree/main)"
   ]
  },
  {
   "cell_type": "markdown",
   "id": "162370fb-3729-4c85-b040-8c25b2c966d2",
   "metadata": {},
   "source": [
    "Paste a copyy of your module here.\n",
    "\n",
    "NOTE: Paste as text, not as code. Use triple backticks to wrap your code blocks."
   ]
  },
  {
   "cell_type": "markdown",
   "id": "8b6734b5",
   "metadata": {},
   "source": [
    "\n",
    "```\n",
    "import pandas as pd   \n",
    "import numpy as np\n",
    "        \n",
    "\n",
    "        \n",
    "class Die:\n",
    "\n",
    "    '''\n",
    "    Create a die with the ability to change the weights of select faces of said die and roll the die, taking into account the weights.\n",
    "    ---\n",
    "    \n",
    "    Methods:\n",
    "    ---\n",
    "    __init__:   This is the initializer.\n",
    "                The user must input a numpy array with faced for the die.\n",
    "    \n",
    "    change_weight: Changes the weight of one face of the die.\n",
    "        \n",
    "\n",
    "    roll_die:   Rolls the die a given number of times.\n",
    "                The results for roll_die will change as if the weights for the die are changed.\n",
    "    \n",
    "    \n",
    "    get_current_state: Prints a data frame with the sides of the die as an index and the assigned weights for each side as the data.\n",
    "    \n",
    "    ---\n",
    "    Attributes: \n",
    "    faces: NumPy array of the faces for a die.\n",
    " \n",
    "    '''\n",
    "\n",
    "    def __init__(self, N):\n",
    "        '''\n",
    "        Initializer. \n",
    "        It sets up the die with a given number of sides and adds a weight of 1 for each side of the die.\n",
    "        A private dataframe is also created. \n",
    "        The private dataframe has the sides of the die as an index and the weights as the data in a column.\n",
    "\n",
    "        ---\n",
    "        inputs:\n",
    "        N:  Faces for a die.  \n",
    "            N must be a NumPy array with unique values. \n",
    "            This method will return errors if those conditions are not met.\n",
    "        outputs:None\n",
    "        \n",
    "        '''\n",
    "        \n",
    "        if not isinstance (N, np.ndarray):\n",
    "            raise TypeError(\"The N number of sides must be a NumPy array\")\n",
    "        if len(N) != len(np.unique(N)):\n",
    "            raise ValueError(\"The faces must be unique values\")\n",
    "        else:\n",
    "            self.faces = N\n",
    "        weights = [1 for _ in range(len(self.faces))]\n",
    "        self.__die_df = pd.DataFrame({            \n",
    "            'side': [n for n in self.faces],\n",
    "            'weights': weights\n",
    "        })\n",
    "        self.__die_df_index = self.__die_df.set_index(['side'])\n",
    "\n",
    "    def change_weight(self, face, new_weight):\n",
    "        '''\n",
    "        Changes the weight of one specified side of the die by assigning the new weight to the data frame.\n",
    "        ---\n",
    "        inputs:\n",
    "        face:   The face from your die that you want to change the weight of.\n",
    "                This must be in the initial NumPy array N.\n",
    "                This method will throw an error if the face listed is not in the original numpy array N.\n",
    "\n",
    "        new_weight: This is the new weight you are assigning to a side. \n",
    "                    This must be an integer or a float. \n",
    "                    An error will be returned if it does not meet those conditions.\n",
    "        outputs: None\n",
    "        '''\n",
    "        \n",
    "        if face not in self.faces:\n",
    "            raise IndexError(\"The face for which the weight is altered needs to be one of the existing faces\")\n",
    "        if not isinstance(new_weight,(float,int)):\n",
    "            raise TypeError(\"The new weight must be a float or integer\")\n",
    "        else:\n",
    "            self.__die_df_index.loc[face]= new_weight\n",
    "\n",
    "    def roll_dice(self, nrolls=1):\n",
    "        '''\n",
    "        Calculates the probability for each side of the die from the assigned weights.\n",
    "        Next, takes a sample of the sides using the calculated probabilities, and prints the results of the rolls as a list.\n",
    "        ---\n",
    "        inputs:\n",
    "        nrolls: Default set to one unless the user reassigns it. \n",
    "                Nrolls should be an integer.\n",
    "        outputs:\n",
    "        results: a python list of the results of the rolls\n",
    "        '''\n",
    "        \n",
    "        results = []\n",
    "        die_probs = [i/sum(self.__die_df['weights']) for i in self.__die_df['weights']]\n",
    "        for i in range(nrolls):\n",
    "            result = self.__die_df.side.sample(weights=die_probs).values[0].tolist()\n",
    "            results.append(result)\n",
    "        return results\n",
    "    \n",
    "    def get_current_state(self):\n",
    "        '''\n",
    "        Prints a data frame with the sides of the die as an index and the assigned weights for each side as the data.\n",
    "        ---\n",
    "        inputs: none\n",
    "        outputs:\n",
    "        die_df_index: data frame with the faces of the die as an index and a single column with the assigned weights for each face.\n",
    "        '''\n",
    "        \n",
    "        return self.__die_df_index\n",
    "    \n",
    "\n",
    "    \n",
    "    \n",
    "class Game:\n",
    "    '''\n",
    "    Gives the user the ability to roll one or more similar die. \n",
    "    The die should have the same number of sides and associated faces.\n",
    "    Game is initialized with a python list of one or more dice created from the die class.\n",
    "    Game gives the user the ability to \"roll\" the inputed dice a given number of times.\n",
    "    ---\n",
    "    Methods:\n",
    "    __init__:   Initializer. It takes an input of a python list of dice.\n",
    "\n",
    "    play:   The user calls this method to \"roll\" the die. The user is able to specify the number of rolls.\n",
    "            Calculates the probability of each face based on the weights assigned to each side of the die.\n",
    "            The die are sampled for the number of rolls specified and the output is stored in a private dataframe.\n",
    "\n",
    "    show_last_play: Method to see the results of their most recent play.\n",
    "                    A dataframe of the results is returned.\n",
    "    ---\n",
    "    attributes:\n",
    "    die_list: Python list of dice, where each element of the list is a single die.\n",
    "    '''\n",
    "    def __init__(self, dielist):\n",
    "        '''\n",
    "        Initializer for the Game class\n",
    "        ---\n",
    "        inputs:\n",
    "        die_list:   Python list of dice created using the Die class.\n",
    "                    The die in die list should have the same number of sides and associated faces.\n",
    "        outputs:\n",
    "        dielist: Python list of dice, where each element of the list is a single die.\n",
    "        '''\n",
    "        die_list = list(range(len(dielist)))\n",
    "        for i in range(len(dielist)):\n",
    "            die_list[i] = dielist[i].get_current_state()\n",
    "            \n",
    "        self.die_list = die_list\n",
    "    \n",
    "    def play (self, rolls):\n",
    "        '''\n",
    "        Allows user to \"roll\" the die.\n",
    "        Probability of each face being rolled is calculated using the weights given in the die_list.\n",
    "        Samples the faces of the die for a given number of rolls based on the calculated probabilites and saves the result in a private dataframe.\n",
    "        ---\n",
    "        inputs:\n",
    "        rolls:  Integer\n",
    "                Specifies how many time the die should be \"rolled\"/sampled.\n",
    "        outputs:none\n",
    "        '''\n",
    "        die_probs = list(range(len(self.die_list)))\n",
    "        for x in range(0,len(self.die_list)):\n",
    "            die_probs[x] = [i/sum(self.die_list[x]['weights']) for i in self.die_list[x]['weights']]\n",
    "\n",
    "        newlist= list(range(len(self.die_list)))\n",
    "        for y in range(len(self.die_list)):\n",
    "            newlist[y] = pd.DataFrame({'side':self.die_list[y].index.tolist(),\n",
    "                               'die_probs':die_probs[y]})   \n",
    "\n",
    "        results=  list(range(len(self.die_list)))\n",
    "        for k in range(len(self.die_list)):\n",
    "            test = newlist[k]\n",
    "            results[k] = [test.side.sample(weights=die_probs[k]).values[0].tolist() for i in range(rolls)]\n",
    "    \n",
    "        self.__outcome = pd.DataFrame(columns = list(range(len(self.die_list))),\n",
    "                                index= list(range(rolls)),\n",
    "                                data = []\n",
    "                                 )\n",
    "        length =  len(self.__outcome.columns)\n",
    "        for col in range(length):\n",
    "            self.__outcome[col] = results[col]\n",
    "        self.__outcome.index.name = 'roll_number'\n",
    "\n",
    "    def show_last_play (self, format = \"wide\"):\n",
    "        ''' \n",
    "        Used to see the results of the most recent play. \n",
    "        Returns the private dataframe created by the play class.\n",
    "        The data can be returned in 'narrow' or 'wide' format and an error will be raised if a different format is supplied by the user.\n",
    "        ---\n",
    "        inputs:\n",
    "        format: \"narrow\" or \"wide\"\n",
    "                Format defaults to wide but the user can choose to have the data presented in narrow format by entering \"narrow\".\n",
    "        outputs:\n",
    "        last_play:  Dataframe of the results of the most recent play. \n",
    "                    Can be in either wide or narrow format.\n",
    "        '''\n",
    "        if format == \"wide\":\n",
    "            last_play = self.__outcome\n",
    "            return last_play\n",
    "        if format == \"narrow\":\n",
    "            last_play = pd.DataFrame(self.__outcome.unstack())\n",
    "            return last_play\n",
    "        else:\n",
    "            raise TypeError(f\"{format} is not an acceptable format. Please enter 'narrow' or 'wide'\")\n",
    "             \n",
    "    \n",
    "\n",
    "\n",
    "class Analyzer:\n",
    "    ''' \n",
    "    Takes the results of a game played via the Game class and computes statistics about said game.\n",
    "    ---\n",
    "    methods:\n",
    "    __init__:   Initializer. It takes in an instance of the Game class.\n",
    "                If the input is not an instance of the Game class, a ValueError will be raised.\n",
    "                A dataframe named data is created. Data holds the information for the last play from the game class.\n",
    "\n",
    "    count_jackpots: A jackpot is when all the faces for a given roll are the same.\n",
    "                    The count_jackpots method counts the number of times a game resulted in a jackpot and returns an integer.\n",
    "\n",
    "    count_faces:    Calculates the number of times a given face is returned for a roll.\n",
    "                    A dataframe of the results is returned.\n",
    "\n",
    "    combo_count:    Counts the number of distinct combinations among the rolls.\n",
    "                    A distinct combination is order-independent and can included repetitions.\n",
    "                    A data frame of the combinations and associated counts is returned.\n",
    "\n",
    "    permutation_count:  Counts the number of disinct permutations among the rolls.\n",
    "                        A distinct permutation is order-dependent and can include repetitions.\n",
    "                        A data frame of the permutations and counts is returned.\n",
    "    ---\n",
    "    attributes:\n",
    "    data: a data frame of the last play.\n",
    "\n",
    "    '''  \n",
    "    def __init__(self, game):\n",
    "        ''' \n",
    "        Initializer. Takes in a an instance of the Game class. \n",
    "        From the input of the game class the method show_last_play is called to create a data frame of the the last play.\n",
    "        ---\n",
    "        inputs:\n",
    "        game:   A Game object/instnace of the game class.\n",
    "                If game is not a Game object, a ValueError will be raised.\n",
    "        outputs: \n",
    "        data: Data frame of the last play.\n",
    "        '''\n",
    "        if not isinstance(game, Game):\n",
    "            raise ValueError(\"This is not a Game object. Please input a Game object.\")\n",
    "        else:\n",
    "            self.data = game.show_last_play()\n",
    "\n",
    "    def count_jackpots(self):\n",
    "        ''' \n",
    "        Calculates the number of times a game resulted in a jackpot and returns and integer.\n",
    "        A jackpot is when all the races for a given roll are the same.\n",
    "        For each row of the data, this method finds the number of unique values. If the number of unique values is greater than 1, that roll was not a jackpot.\n",
    "        For each row where the number of unique values is equal to one, the jackpot count goes up by one.\n",
    "        ---\n",
    "        inputs:none\n",
    "        outputs: \n",
    "        jack_count: integer, the number of jackpots\n",
    "        '''\n",
    "        jack_count = 0\n",
    "        for i in range(len(self.data)):\n",
    "            if len(self.data.iloc[i].unique()) == 1:\n",
    "                jack_count += 1\n",
    "            else:\n",
    "                jack_count = jack_count\n",
    "        return jack_count\n",
    "    \n",
    "    def count_faces(self):\n",
    "        ''' \n",
    "        Counts the number of times a given face appears in one roll using the value_counts() method with a lambda function.\n",
    "        The lambda function is the applied across the data frame to calculate the face counts for each roll.\n",
    "        ---\n",
    "        inputs: none\n",
    "        outputs: \n",
    "        face_count: Data frame with roll number as the index, faces as the columns and counts for each face appearance as the data.\n",
    "        '''\n",
    "        row_count = lambda row: row.value_counts()\n",
    "        face_count = self.data.apply(row_count, axis = 1).fillna(0).astype(int)\n",
    "        return face_count\n",
    "    \n",
    "    def count_combos(self):\n",
    "        ''' \n",
    "        This method calculates the distinct combination of faces rolled and their counts.\n",
    "        A distinct combination is not dependent on order and may have repetitions.\n",
    "        ---\n",
    "        inputs: none\n",
    "        outputs: \n",
    "        combo_count_df: Dataframe with a MultiIndex of distinct combinations and a single column for the associated counts.\n",
    "        '''\n",
    "        row_combos = self.data.apply(lambda row: tuple(sorted(row)), axis = 1)\n",
    "        combo_count = row_combos.value_counts()\n",
    "        combo_count_df = pd.DataFrame(combo_count)\n",
    "        combo_count_df.index = pd.MultiIndex.from_tuples(combo_count_df.index)\n",
    "        return combo_count_df\n",
    "    \n",
    "    def count_permutations(self):\n",
    "        ''' \n",
    "        Calculates the distinct permutations of faces rolled in a game and their counts.\n",
    "        A permutaiton is dependent on order and may contain repetitions.\n",
    "        ---\n",
    "        inputs:none\n",
    "        outputs:\n",
    "        perm_count_df: Datareame with a MultiIndex of distinct permutations and a column for the associated counts.\n",
    "        '''\n",
    "        row_perm = self.data.apply(lambda row: tuple(row), axis = 1)\n",
    "        perm_count = row_perm.value_counts()\n",
    "        perm_count_df = pd.DataFrame(perm_count)\n",
    "        perm_count_df.index = pd.MultiIndex.from_tuples(perm_count_df.index)\n",
    "        return perm_count_df\n"
   ]
  },
  {
   "cell_type": "markdown",
   "id": "6377727a-8f0a-491e-9f1c-d9dc225edd35",
   "metadata": {},
   "source": [
    "## Unitest Module (2)\n",
    "\n",
    "Paste a copy of your test module below.\n",
    "\n",
    "NOTE: Paste as text, not as code. Use triple backticks to wrap your code blocks.\n",
    "\n",
    "- All methods have at least one test method (1).\n",
    "- Each method employs one of Unittest's Assert methods (1)."
   ]
  },
  {
   "cell_type": "markdown",
   "id": "efeb71df-b55c-433d-8115-1486810ce4bb",
   "metadata": {},
   "source": [
    "```   \n",
    "\n",
    "import pandas as pd\n",
    "import numpy as np\n",
    "from montecarlo.montecarlo import Die\n",
    "from montecarlo.montecarlo import Game\n",
    "from montecarlo.montecarlo import Analyzer\n",
    "import unittest\n",
    "\n",
    "class DieTestSuite(unittest.TestCase):\n",
    "    '''\n",
    "    Tests the methods in the Die class unsing unittest.\n",
    "\n",
    "    Methods:\n",
    "    test_01_initializer: Tests if a numpy array of the faces is created/stored\n",
    "    test_02_change_weight: Checks to see if the new weight is stored in the data frame with the correct side.\n",
    "    test_03_roll_die: Tests if the results are a list containing faces of the die.\n",
    "    test_04_get_current_state: Tests if the outcome of this method is a dataframe with a column for wieghts.\n",
    "    '''\n",
    "    def test_01_initializer(self):\n",
    "        '''\n",
    "        Tests if a numpy array of the faces is created/stored from an instance of the Die class.\n",
    "        '''\n",
    "        die1 = [1,2,3,4,5,6]\n",
    "        die_arr = np.array(die1)\n",
    "        mydie = Die(die_arr)\n",
    "        self.assertIsInstance(mydie.faces, np.ndarray)\n",
    "\n",
    "    def test_02_change_weight(self):\n",
    "        '''\n",
    "        Checks to see if the new weight is stored in the data frame with the correct side.\n",
    "        '''\n",
    "        die1 = [1,2,3,4,5,6]\n",
    "        die_arr = np.array(die1)\n",
    "        mydie = Die(die_arr)\n",
    "        face = 2\n",
    "        weight = 100\n",
    "        mydie.change_weight(face,weight)\n",
    "        die_weight = mydie.get_current_state()\n",
    "        self.assertEqual(100, die_weight.loc[face, 'weights'])\n",
    "\n",
    "    def test_03_roll_dice(self):\n",
    "        '''\n",
    "        Tests if the results are a list containing faces of the die.\n",
    "        This is done using the all method to see if the results are in our originial list of die faces and isinstance to make sure it is a list.\n",
    "        '''\n",
    "        die1 = [1,2,3,4,5,6]\n",
    "        die_arr = np.array(die1)\n",
    "        mydie = Die(die_arr)\n",
    "        myroll = mydie.roll_dice(10)\n",
    "        self.assertTrue(all(e in die1 for e in myroll)& isinstance(myroll,list))\n",
    "\n",
    "    def test_04_get_current_state(self):\n",
    "        '''\n",
    "        Tests if the outcome of this method is a dataframe with a column for weights.\n",
    "        '''\n",
    "        die1 = [1,2,3,4,5,6]\n",
    "        die_arr = np.array(die1)\n",
    "        mydie = Die(die_arr)\n",
    "        current_die = mydie.get_current_state()\n",
    "        self.assertTrue(isinstance(current_die,pd.DataFrame) & (current_die.columns == 'weights'))\n",
    "\n",
    "\n",
    "class GameTestSuite(unittest.TestCase):\n",
    "    '''\n",
    "    Tests to make sure the Game class is functioning as expected.\n",
    "    ---\n",
    "    Methods:\n",
    "    test_05_initializer: Tests to make sure our initializer creates the attribute for the game class correctly.\n",
    "\n",
    "    test_06_play: Tests to see if the play method correctly sampled the dice for a given number of rolls.\n",
    "    test_07_show_last_play: Tests to make sure the output of the show_last_play method is a dataframe.\n",
    "    '''\n",
    "    def test_05_initializer(self):\n",
    "        '''\n",
    "        Tests to make sure our initializer creates the attribute for the game class correctly.\n",
    "        '''\n",
    "        dice = [1,2,3,4]\n",
    "        dice_arr = np.array(dice)\n",
    "        die1 = Die(dice_arr)\n",
    "        die2 = Die(dice_arr)\n",
    "        die3 = Die(dice_arr)\n",
    "        die4 = Die(dice_arr)\n",
    "        die1_state = die1.get_current_state()\n",
    "        die2_state = die2.get_current_state()\n",
    "        die3_state = die3.get_current_state()\n",
    "        die4_state = die4.get_current_state()\n",
    "        dice_list_weights = [die1_state, die2_state, die3_state, die4_state]\n",
    "        dice_list = [die1, die2, die3, die4]\n",
    "        mygame = Game(dice_list)\n",
    "        self.assertEqual(dice_list_weights, mygame.die_list)\n",
    "\n",
    "    def test_06_play(self):\n",
    "        '''\n",
    "        Tests to see if the play method correctly sampled the dice for a given number of rolls.\n",
    "        '''\n",
    "        dice = [1,2,3,4]\n",
    "        dice_arr = np.array(dice)\n",
    "        die1 = Die(dice_arr)\n",
    "        die2 = Die(dice_arr)\n",
    "        die3 = Die(dice_arr)\n",
    "        die4 = Die(dice_arr)\n",
    "        dice_list = [die1, die2, die3, die4]\n",
    "        mygame = Game(dice_list)\n",
    "        nrolls = 10\n",
    "        mygame.play(nrolls)\n",
    "        self.assertTrue(nrolls == len(mygame.show_last_play()))\n",
    "    \n",
    "    def test_07_show_last_play(self):\n",
    "        '''\n",
    "        Tests to make sure the output of the show_last_play method is a dataframe.\n",
    "        '''\n",
    "        dice = [1,2,3,4]\n",
    "        dice_arr = np.array(dice)\n",
    "        die1 = Die(dice_arr)\n",
    "        die2 = Die(dice_arr)\n",
    "        die3 = Die(dice_arr)\n",
    "        die4 = Die(dice_arr)\n",
    "        dice_list = [die1, die2, die3, die4]\n",
    "        mygame = Game(dice_list)\n",
    "        nrolls = 10\n",
    "        mygame.play(nrolls)\n",
    "        myplay = mygame.show_last_play()\n",
    "        self.assertIsInstance(myplay, pd.DataFrame)\n",
    "\n",
    "\n",
    "class AnalyzerTestSuite(unittest.TestCase):\n",
    "    '''\n",
    "    A series of unittests to make sure the Analyzer class is functioning as expected.\n",
    "    ---\n",
    "    Methods:\n",
    "    test_08_initializer: Tests that the attribute \"data\" created is a dataframe.\n",
    "    test_09_count_jackpots: Tests that the number of jackpots is counted correctly and returned as an integer.\n",
    "    test_10_count_faces: Tests if the count_faces method correctly counts the number of faces.\n",
    "    test_11_count_combos: Tests to see if the output of the count_combos method is a dataframe with a MultiIndex.\n",
    "    test_12_count_permutations: Tests the the output of the count_permutations method is a dataframe with a MultiIndex.\n",
    "\n",
    "    \n",
    "    '''\n",
    "    def test_08_initializer(self):\n",
    "        '''\n",
    "        Tests that the attribute data created is a dataframe.\n",
    "        '''\n",
    "        dice = [1,2,3,4]\n",
    "        dice_arr = np.array(dice)\n",
    "        die1 = Die(dice_arr)\n",
    "        die2 = Die(dice_arr)\n",
    "        die3 = Die(dice_arr)\n",
    "        die4 = Die(dice_arr)\n",
    "        dice_list = [die1, die2, die3, die4]\n",
    "        mygame = Game(dice_list)\n",
    "        nrolls = 10\n",
    "        mygame.play(nrolls)\n",
    "        myanalyzer = Analyzer(mygame)\n",
    "        mydata = myanalyzer.data\n",
    "        self.assertIsInstance(mydata, pd.DataFrame)\n",
    "\n",
    "    def test_09_count_jackpots(self):\n",
    "        '''\n",
    "        Tests that the number of jackpots is counted correctly and returned as an integer.\n",
    "        This test will set every die to have one face so every roll should be a jackpot.\n",
    "        For the purpose of this test, we ignore the fact that it is imposible to have a one sided die unless it is a mobius strip of some sort.\n",
    "        '''\n",
    "        dice = [1]\n",
    "        dice_arr = np.array(dice)\n",
    "        die1 = Die(dice_arr)\n",
    "        die2 = Die(dice_arr)\n",
    "        die3 = Die(dice_arr)\n",
    "        die4 = Die(dice_arr)\n",
    "        dice_list = [die1, die2, die3, die4]\n",
    "        mygame = Game(dice_list)\n",
    "        nrolls = 10\n",
    "        mygame.play(nrolls)\n",
    "        myanalyzer = Analyzer(mygame)\n",
    "        self.assertTrue((myanalyzer.count_jackpots() == nrolls) & (isinstance(myanalyzer.count_jackpots(), int)))\n",
    "\n",
    "\n",
    "    def test_10_count_faces(self):\n",
    "        '''\n",
    "        Tests if the count_faces method correctly counts the number of faces.\n",
    "        Ignoring reality once again, we will have one sided dice, so the face count for each roll should be equal to the number of dice rolled, in this case 4.\n",
    "        This test will also confirm that the output is a dataframe.\n",
    "        '''\n",
    "        dice = [1]\n",
    "        dice_arr = np.array(dice)\n",
    "        die1 = Die(dice_arr)\n",
    "        die2 = Die(dice_arr)\n",
    "        die3 = Die(dice_arr)\n",
    "        die4 = Die(dice_arr)\n",
    "        dice_list = [die1, die2, die3, die4]\n",
    "        mygame = Game(dice_list)\n",
    "        nrolls = 10\n",
    "        mygame.play(nrolls)\n",
    "        myanalyzer = Analyzer(mygame)\n",
    "        num_dice = 4\n",
    "        face_counts = myanalyzer.count_faces().loc[0].tolist()\n",
    "        self.assertTrue((face_counts[0]== num_dice) & (isinstance(myanalyzer.count_faces(), pd.DataFrame)))\n",
    "\n",
    "    def test_ll_count_combos(self):\n",
    "        '''\n",
    "        Tests to see if the output of the count_combos method is a dataframe with a MultiIndex by calculating the numbers of levels in the index.\n",
    "        '''\n",
    "        dice = [1,2,3,4]\n",
    "        dice_arr = np.array(dice)\n",
    "        die1 = Die(dice_arr)\n",
    "        die2 = Die(dice_arr)\n",
    "        die3 = Die(dice_arr)\n",
    "        die4 = Die(dice_arr)\n",
    "        dice_list = [die1, die2, die3, die4]\n",
    "        mygame = Game(dice_list)\n",
    "        nrolls = 10\n",
    "        mygame.play(nrolls)\n",
    "        myanalyzer = Analyzer(mygame)\n",
    "        mycombos = myanalyzer.count_combos()\n",
    "        self.assertTrue((mycombos.index.nlevels > 1) & isinstance(mycombos, pd.DataFrame))\n",
    "\n",
    "\n",
    "    def test_12_count_permutations(self):\n",
    "        '''\n",
    "        Tests the the output of the count_permutations method is a dataframe with a MultiIndex.\n",
    "        The MultiIndex is tested by counding the number of levels in the index.\n",
    "        '''\n",
    "\n",
    "        dice = [1,2,3,4]\n",
    "        dice_arr = np.array(dice)\n",
    "        die1 = Die(dice_arr)\n",
    "        die2 = Die(dice_arr)\n",
    "        die3 = Die(dice_arr)\n",
    "        die4 = Die(dice_arr)\n",
    "        dice_list = [die1, die2, die3, die4]\n",
    "        mygame = Game(dice_list)\n",
    "        nrolls = 10\n",
    "        mygame.play(nrolls)\n",
    "        myanalyzer = Analyzer(mygame)\n",
    "        mypermutations = myanalyzer.count_permutations()\n",
    "        self.assertTrue((mypermutations.index.nlevels > 1) & isinstance(mypermutations, pd.DataFrame))\n",
    "\n",
    "\n",
    "if __name__ == '__main__':\n",
    "    unittest.main()\n",
    "```   \n"
   ]
  },
  {
   "cell_type": "markdown",
   "id": "3e058d03-29bc-408f-b36d-0605b4f4b8c0",
   "metadata": {
    "tags": []
   },
   "source": [
    "## Unittest Results (3)\n",
    "\n",
    "Put a copy of the results of running your tests from the command line here.\n",
    "\n",
    "Again, paste as text using triple backticks.\n",
    "\n",
    "- All 12 specified methods return OK (3; .25 each)."
   ]
  },
  {
   "cell_type": "raw",
   "id": "54691fd0-836c-43c7-adc9-4a09d8aa9ab2",
   "metadata": {
    "tags": []
   },
   "source": [
    "test_08_initializer (__main__.AnalyzerTestSuite.test_08_initializer)\n",
    "this tests that the attribute data created is a dataframe. ... ok\n",
    "test_09_count_jackpots (__main__.AnalyzerTestSuite.test_09_count_jackpots)\n",
    "This tests that the number of jackpots is counted correctly and returned as an integer. ... ok\n",
    "test_10_count_faces (__main__.AnalyzerTestSuite.test_10_count_faces)\n",
    "This tests if the count_faces method correctly counts the number of faces. ... ok\n",
    "test_12_count_permutations (__main__.AnalyzerTestSuite.test_12_count_permutations)\n",
    "This tests the the output of the count_permutations method is a dataframe with a MultiIndex. ... ok\n",
    "test_ll_count_combos (__main__.AnalyzerTestSuite.test_ll_count_combos)\n",
    "This tests to see if the output of the count_combos method is a dataframe with a MultiIndex by calculating the numbers of levels in the index. ... ok\n",
    "test_01_initializer (__main__.DieTestSuite.test_01_initializer)\n",
    "This tests if a numpy array of the faces is created/stored ... ok\n",
    "test_02_change_weight (__main__.DieTestSuite.test_02_change_weight)\n",
    "checks to see if the new weight is stored in the data frame with the correct side. ... ok\n",
    "test_03_roll_dice (__main__.DieTestSuite.test_03_roll_dice)\n",
    "Tests if the results are a list containing faces of the die. ... ok\n",
    "test_04_get_current_state (__main__.DieTestSuite.test_04_get_current_state)\n",
    "This tests if the outcome of this method is a dataframe with a column for wieghts. ... ok\n",
    "test_05_initializer (__main__.GameTestSuite.test_05_initializer)\n",
    "This tests to make sure our initializer creates and attribute which is equal to out input for an instance of the Game class. ... ok\n",
    "test_06_play (__main__.GameTestSuite.test_06_play)\n",
    "this tests to see if the play method correctly sampled the dice for a given number of rolls. ... ok\n",
    "test_07_show_last_play (__main__.GameTestSuite.test_07_show_last_play)\n",
    "This tests to make sure the output of the show_last_play method is a dataframe. ... ok\n",
    "\n",
    "----------------------------------------------------------------------\n",
    "Ran 12 tests in 0.092s\n",
    "\n",
    "OK\n"
   ]
  },
  {
   "cell_type": "markdown",
   "id": "d9ffe8c5-eb2f-4ad1-af76-a46550e4c7ac",
   "metadata": {},
   "source": [
    "## Import (1)\n",
    "\n",
    "Import your module here. This import should refer to the code in your package directory.\n",
    "\n",
    "- Module successuflly imported (1)."
   ]
  },
  {
   "cell_type": "code",
   "execution_count": 1,
   "id": "a05dffb3-e6d6-4f78-9df4-5abd0cf74ca9",
   "metadata": {
    "tags": []
   },
   "outputs": [],
   "source": [
    "import montecarlo.montecarlo"
   ]
  },
  {
   "cell_type": "markdown",
   "id": "f30c4842-65b1-4556-98b6-3fe1a07e1371",
   "metadata": {},
   "source": [
    "## Help Docs (4)\n",
    "\n",
    "Show your docstring documentation by applying `help()` to your imported module.\n",
    "\n",
    "- All methods have a docstring (3; .25 each).\n",
    "- All classes have a docstring (1; .33 each)."
   ]
  },
  {
   "cell_type": "code",
   "execution_count": 2,
   "id": "bf4fbf1f-9885-471c-a0a6-e9ca90e160de",
   "metadata": {
    "tags": []
   },
   "outputs": [
    {
     "name": "stdout",
     "output_type": "stream",
     "text": [
      "Help on module montecarlo.montecarlo in montecarlo:\n",
      "\n",
      "NAME\n",
      "    montecarlo.montecarlo\n",
      "\n",
      "CLASSES\n",
      "    builtins.object\n",
      "        Analyzer\n",
      "        Die\n",
      "        Game\n",
      "    \n",
      "    class Analyzer(builtins.object)\n",
      "     |  Analyzer(game)\n",
      "     |  \n",
      "     |  Takes the results of a game played via the Game class and computes statistics about said game.\n",
      "     |  ---\n",
      "     |  methods:\n",
      "     |  __init__:   Initializer. It takes in an instance of the Game class.\n",
      "     |              If the input is not an instance of the Game class, a ValueError will be raised.\n",
      "     |              A dataframe named data is created. Data holds the information for the last play from the game class.\n",
      "     |  \n",
      "     |  count_jackpots: A jackpot is when all the faces for a given roll are the same.\n",
      "     |                  The count_jackpots method counts the number of times a game resulted in a jackpot and returns an integer.\n",
      "     |  \n",
      "     |  count_faces:    Calculates the number of times a given face is returned for a roll.\n",
      "     |                  A dataframe of the results is returned.\n",
      "     |  \n",
      "     |  combo_count:    Counts the number of distinct combinations among the rolls.\n",
      "     |                  A distinct combination is order-independent and can included repetitions.\n",
      "     |                  A data frame of the combinations and associated counts is returned.\n",
      "     |  \n",
      "     |  permutation_count:  Counts the number of disinct permutations among the rolls.\n",
      "     |                      A distinct permutation is order-dependent and can include repetitions.\n",
      "     |                      A data frame of the permutations and counts is returned.\n",
      "     |  ---\n",
      "     |  attributes:\n",
      "     |  data: a data frame of the last play.\n",
      "     |  \n",
      "     |  Methods defined here:\n",
      "     |  \n",
      "     |  __init__(self, game)\n",
      "     |      Initializer. Takes in a an instance of the Game class. \n",
      "     |      From the input of the game class the method show_last_play is called to create a data frame of the the last play.\n",
      "     |      ---\n",
      "     |      inputs:\n",
      "     |      game:   A Game object/instnace of the game class.\n",
      "     |              If game is not a Game object, a ValueError will be raised.\n",
      "     |      outputs: \n",
      "     |      data: Data frame of the last play.\n",
      "     |  \n",
      "     |  count_combos(self)\n",
      "     |      This method calculates the distinct combination of faces rolled and their counts.\n",
      "     |      A distinct combination is not dependent on order and may have repetitions.\n",
      "     |      ---\n",
      "     |      inputs: none\n",
      "     |      outputs: \n",
      "     |      combo_count_df: Dataframe with a MultiIndex of distinct combinations and a single column for the associated counts.\n",
      "     |  \n",
      "     |  count_faces(self)\n",
      "     |      Counts the number of times a given face appears in one roll using the value_counts() method with a lambda function.\n",
      "     |      The lambda function is the applied across the data frame to calculate the face counts for each roll.\n",
      "     |      ---\n",
      "     |      inputs: none\n",
      "     |      outputs: \n",
      "     |      face_count: Data frame with roll number as the index, faces as the columns and counts for each face appearance as the data.\n",
      "     |  \n",
      "     |  count_jackpots(self)\n",
      "     |      Calculates the number of times a game resulted in a jackpot and returns and integer.\n",
      "     |      A jackpot is when all the races for a given roll are the same.\n",
      "     |      For each row of the data, this method finds the number of unique values. If the number of unique values is greater than 1, that roll was not a jackpot.\n",
      "     |      For each row where the number of unique values is equal to one, the jackpot count goes up by one.\n",
      "     |      ---\n",
      "     |      inputs:none\n",
      "     |      outputs: \n",
      "     |      jack_count: integer, the number of jackpots\n",
      "     |  \n",
      "     |  count_permutations(self)\n",
      "     |      Calculates the distinct permutations of faces rolled in a game and their counts.\n",
      "     |      A permutaiton is dependent on order and may contain repetitions.\n",
      "     |      ---\n",
      "     |      inputs:none\n",
      "     |      outputs:\n",
      "     |      perm_count_df: Datareame with a MultiIndex of distinct permutations and a column for the associated counts.\n",
      "     |  \n",
      "     |  ----------------------------------------------------------------------\n",
      "     |  Data descriptors defined here:\n",
      "     |  \n",
      "     |  __dict__\n",
      "     |      dictionary for instance variables (if defined)\n",
      "     |  \n",
      "     |  __weakref__\n",
      "     |      list of weak references to the object (if defined)\n",
      "    \n",
      "    class Die(builtins.object)\n",
      "     |  Die(N)\n",
      "     |  \n",
      "     |  Create a die with the ability to change the weights of select faces of said die and roll the die, taking into account the weights.\n",
      "     |  ---\n",
      "     |  \n",
      "     |  Methods:\n",
      "     |  ---\n",
      "     |  __init__:   This is the initializer.\n",
      "     |              The user must input a numpy array with faced for the die.\n",
      "     |  \n",
      "     |  change_weight: Changes the weight of one face of the die.\n",
      "     |      \n",
      "     |  \n",
      "     |  roll_die:   Rolls the die a given number of times.\n",
      "     |              The results for roll_die will change as if the weights for the die are changed.\n",
      "     |  \n",
      "     |  \n",
      "     |  get_current_state: Prints a data frame with the sides of the die as an index and the assigned weights for each side as the data.\n",
      "     |  \n",
      "     |  ---\n",
      "     |  Attributes: \n",
      "     |  faces: NumPy array of the faces for a die.\n",
      "     |  \n",
      "     |  Methods defined here:\n",
      "     |  \n",
      "     |  __init__(self, N)\n",
      "     |      Initializer. \n",
      "     |      It sets up the die with a given number of sides and adds a weight of 1 for each side of the die.\n",
      "     |      A private dataframe is also created. \n",
      "     |      The private dataframe has the sides of the die as an index and the weights as the data in a column.\n",
      "     |      \n",
      "     |      ---\n",
      "     |      inputs:\n",
      "     |      N:  Faces for a die.  \n",
      "     |          N must be a NumPy array with unique values. \n",
      "     |          This method will return errors if those conditions are not met.\n",
      "     |      outputs:None\n",
      "     |  \n",
      "     |  change_weight(self, face, new_weight)\n",
      "     |      Changes the weight of one specified side of the die by assigning the new weight to the data frame.\n",
      "     |      ---\n",
      "     |      inputs:\n",
      "     |      face:   The face from your die that you want to change the weight of.\n",
      "     |              This must be in the initial NumPy array N.\n",
      "     |              This method will throw an error if the face listed is not in the original numpy array N.\n",
      "     |      \n",
      "     |      new_weight: This is the new weight you are assigning to a side. \n",
      "     |                  This must be an integer or a float. \n",
      "     |                  An error will be returned if it does not meet those conditions.\n",
      "     |      outputs: None\n",
      "     |  \n",
      "     |  get_current_state(self)\n",
      "     |      Prints a data frame with the sides of the die as an index and the assigned weights for each side as the data.\n",
      "     |      ---\n",
      "     |      inputs: none\n",
      "     |      outputs:\n",
      "     |      die_df_index: data frame with the faces of the die as an index and a single column with the assigned weights for each face.\n",
      "     |  \n",
      "     |  roll_dice(self, nrolls=1)\n",
      "     |      Calculates the probability for each side of the die from the assigned weights.\n",
      "     |      Next, takes a sample of the sides using the calculated probabilities, and prints the results of the rolls as a list.\n",
      "     |      ---\n",
      "     |      inputs:\n",
      "     |      nrolls: Default set to one unless the user reassigns it. \n",
      "     |              Nrolls should be an integer.\n",
      "     |      outputs:\n",
      "     |      results: a python list of the results of the rolls\n",
      "     |  \n",
      "     |  ----------------------------------------------------------------------\n",
      "     |  Data descriptors defined here:\n",
      "     |  \n",
      "     |  __dict__\n",
      "     |      dictionary for instance variables (if defined)\n",
      "     |  \n",
      "     |  __weakref__\n",
      "     |      list of weak references to the object (if defined)\n",
      "    \n",
      "    class Game(builtins.object)\n",
      "     |  Game(dielist)\n",
      "     |  \n",
      "     |  Gives the user the ability to roll one or more similar die. \n",
      "     |  The die should have the same number of sides and associated faces.\n",
      "     |  Game is initialized with a python list of one or more dice created from the die class.\n",
      "     |  Game gives the user the ability to \"roll\" the inputed dice a given number of times.\n",
      "     |  ---\n",
      "     |  Methods:\n",
      "     |  __init__:   Initializer. It takes an input of a python list of dice.\n",
      "     |  \n",
      "     |  play:   The user calls this method to \"roll\" the die. The user is able to specify the number of rolls.\n",
      "     |          Calculates the probability of each face based on the weights assigned to each side of the die.\n",
      "     |          The die are sampled for the number of rolls specified and the output is stored in a private dataframe.\n",
      "     |  \n",
      "     |  show_last_play: Method to see the results of their most recent play.\n",
      "     |                  A dataframe of the results is returned.\n",
      "     |  ---\n",
      "     |  attributes:\n",
      "     |  die_list: Python list of dice, where each element of the list is a single die.\n",
      "     |  \n",
      "     |  Methods defined here:\n",
      "     |  \n",
      "     |  __init__(self, dielist)\n",
      "     |      Initializer for the Game class\n",
      "     |      ---\n",
      "     |      inputs:\n",
      "     |      dielist:   Python list of dice created using the Die class.\n",
      "     |                  The die in die list should have the same number of sides and associated faces.\n",
      "     |      outputs:\n",
      "     |      dielist: Python list of dice, where each element of the list is a single die.\n",
      "     |  \n",
      "     |  play(self, rolls)\n",
      "     |      Allows user to \"roll\" the die.\n",
      "     |      Probability of each face being rolled is calculated using the weights given in the die_list.\n",
      "     |      Samples the faces of the die for a given number of rolls based on the calculated probabilites and saves the result in a private dataframe.\n",
      "     |      ---\n",
      "     |      inputs:\n",
      "     |      rolls:  Integer\n",
      "     |              Specifies how many time the die should be \"rolled\"/sampled.\n",
      "     |      outputs:none\n",
      "     |  \n",
      "     |  show_last_play(self, format='wide')\n",
      "     |      Used to see the results of the most recent play. \n",
      "     |      Returns the private dataframe created by the play class.\n",
      "     |      The data can be returned in 'narrow' or 'wide' format and an error will be raised if a different format is supplied by the user.\n",
      "     |      ---\n",
      "     |      inputs:\n",
      "     |      format: \"narrow\" or \"wide\"\n",
      "     |              Format defaults to wide but the user can choose to have the data presented in narrow format by entering \"narrow\".\n",
      "     |      outputs:\n",
      "     |      last_play:  Dataframe of the results of the most recent play. \n",
      "     |                  Can be in either wide or narrow format.\n",
      "     |  \n",
      "     |  ----------------------------------------------------------------------\n",
      "     |  Data descriptors defined here:\n",
      "     |  \n",
      "     |  __dict__\n",
      "     |      dictionary for instance variables (if defined)\n",
      "     |  \n",
      "     |  __weakref__\n",
      "     |      list of weak references to the object (if defined)\n",
      "\n",
      "FILE\n",
      "    /sfs/qumulo/qhome/dbm4bj/docs/msds/ds5100/ds5100-finalproject-dbm4bj/montecarlo/montecarlo.py\n",
      "\n",
      "\n"
     ]
    }
   ],
   "source": [
    "help(montecarlo.montecarlo)"
   ]
  },
  {
   "cell_type": "markdown",
   "id": "a9defa84-b395-4966-bd1c-5c6c2bb7ed68",
   "metadata": {},
   "source": [
    "## `README.md` File (3)\n",
    "\n",
    "Provide link to the README.md file of your project's repo.\n",
    "\n",
    "- Metadata section or info present (1).\n",
    "- Synopsis section showing how each class is called (1). (All must be included.)\n",
    "- API section listing all classes and methods (1). (All must be included.)"
   ]
  },
  {
   "cell_type": "markdown",
   "id": "ee090b33-d593-48a0-bf35-e739cea0942c",
   "metadata": {},
   "source": [
    "URL: [Link to README](https://github.com/rsfellman/ds5100-finalproject-dbm4bj/blob/main/README.md)"
   ]
  },
  {
   "cell_type": "markdown",
   "id": "108604c8-8827-42ef-ab59-6b25428fc0ca",
   "metadata": {},
   "source": [
    "## Successful installation (2)\n",
    "\n",
    "Put a screenshot or paste a copy of a terminal session where you successfully install your module with pip.\n",
    "\n",
    "If pasting text, use a preformatted text block to show the results.\n",
    "\n",
    "- Installed with `pip` (1).\n",
    "- Successfully installed message appears (1)."
   ]
  },
  {
   "cell_type": "code",
   "execution_count": 3,
   "id": "f490ba09-5fe4-4a50-ab0d-dae7ca98c850",
   "metadata": {
    "tags": []
   },
   "outputs": [
    {
     "name": "stdout",
     "output_type": "stream",
     "text": [
      "Defaulting to user installation because normal site-packages is not writeable\n",
      "Obtaining file:///sfs/qumulo/qhome/dbm4bj/docs/msds/ds5100/ds5100-finalproject-dbm4bj\n",
      "  Preparing metadata (setup.py) ... \u001b[?25ldone\n",
      "\u001b[?25hRequirement already satisfied: numpy in /apps/software/standard/core/jupyterlab/3.6.3-py3.11/lib/python3.11/site-packages (from montecarlo==1.0.0) (1.24.4)\n",
      "Requirement already satisfied: pandas in /apps/software/standard/core/jupyterlab/3.6.3-py3.11/lib/python3.11/site-packages (from montecarlo==1.0.0) (2.0.3)\n",
      "Requirement already satisfied: python-dateutil>=2.8.2 in /apps/software/standard/core/jupyterlab/3.6.3-py3.11/lib/python3.11/site-packages (from pandas->montecarlo==1.0.0) (2.8.2)\n",
      "Requirement already satisfied: pytz>=2020.1 in /apps/software/standard/core/jupyterlab/3.6.3-py3.11/lib/python3.11/site-packages (from pandas->montecarlo==1.0.0) (2023.3)\n",
      "Requirement already satisfied: tzdata>=2022.1 in /apps/software/standard/core/jupyterlab/3.6.3-py3.11/lib/python3.11/site-packages (from pandas->montecarlo==1.0.0) (2023.3)\n",
      "Requirement already satisfied: six>=1.5 in /apps/software/standard/core/jupyterlab/3.6.3-py3.11/lib/python3.11/site-packages (from python-dateutil>=2.8.2->pandas->montecarlo==1.0.0) (1.16.0)\n",
      "Installing collected packages: montecarlo\n",
      "  Attempting uninstall: montecarlo\n",
      "    Found existing installation: montecarlo 1.0.0\n",
      "    Uninstalling montecarlo-1.0.0:\n",
      "      Successfully uninstalled montecarlo-1.0.0\n",
      "  Running setup.py develop for montecarlo\n",
      "Successfully installed montecarlo-1.0.0\n",
      "Note: you may need to restart the kernel to use updated packages.\n"
     ]
    }
   ],
   "source": [
    "pip install -e."
   ]
  },
  {
   "cell_type": "markdown",
   "id": "7c44695d-d1b3-4edf-9f94-e64d7446f199",
   "metadata": {},
   "source": [
    "# Scenarios\n",
    "\n",
    "Use code blocks to perform the tasks for each scenario.\n",
    "\n",
    "Be sure the outputs are visible before submitting."
   ]
  },
  {
   "cell_type": "markdown",
   "id": "e2479eae-6fc9-44cd-b8d7-9b22cb501f2a",
   "metadata": {
    "tags": []
   },
   "source": [
    "## Scenario 1: A 2-headed Coin (9)\n",
    "\n",
    "Task 1. Create a fair coin (with faces $H$ and $T$) and one unfair coin in which one of the faces has a weight of $5$ and the others $1$.\n",
    "\n",
    "- Fair coin created (1).\n",
    "- Unfair coin created with weight as specified (1)."
   ]
  },
  {
   "cell_type": "code",
   "execution_count": 6,
   "id": "c08447a9-bdcb-4771-bfe8-f8f27f8cfeff",
   "metadata": {
    "tags": []
   },
   "outputs": [],
   "source": [
    "import numpy as np\n",
    "import pandas as pd"
   ]
  },
  {
   "cell_type": "code",
   "execution_count": 7,
   "id": "55ce498e-c75f-4425-9e3e-b635bd6cd9e1",
   "metadata": {
    "tags": []
   },
   "outputs": [],
   "source": [
    "coin = np.array(['H','T'])\n",
    "unfair = montecarlo.Die(coin)\n",
    "fair = montecarlo.Die(coin)\n",
    "unfair.change_weight('H', 5)"
   ]
  },
  {
   "cell_type": "markdown",
   "id": "02b272ab-99da-4b6e-ac2a-555b73e09c07",
   "metadata": {},
   "source": [
    "Task 2. Play a game of $1000$ flips with two fair dice.\n",
    "\n",
    "- Play method called correclty and without error (1)."
   ]
  },
  {
   "cell_type": "code",
   "execution_count": 8,
   "id": "65c92601-d32d-4326-b215-74953aee27f2",
   "metadata": {},
   "outputs": [],
   "source": [
    "#create die list for game class from fair and unfair die\n",
    "die_list = [fair, unfair]"
   ]
  },
  {
   "cell_type": "code",
   "execution_count": 9,
   "id": "755c4c41-8b36-47f1-8260-41f976f7ea71",
   "metadata": {},
   "outputs": [],
   "source": [
    "#create game instance and use play method\n",
    "coingame = montecarlo.Game(die_list)\n",
    "coingame.play(1000)"
   ]
  },
  {
   "cell_type": "markdown",
   "id": "7d9c3dc8-22c1-4cae-81fb-d68d774a05d1",
   "metadata": {},
   "source": [
    "Task 3. Play another game (using a new Game object) of $1000$ flips, this time using two unfair dice and one fair die. For the second unfair die, you can use the same die object twice in the list of dice you pass to the Game object.\n",
    "\n",
    "- New game object created (1).\n",
    "- Play method called correclty and without error (1)."
   ]
  },
  {
   "cell_type": "code",
   "execution_count": 11,
   "id": "d4098bed-1eb2-4084-8d5e-9fda07c3be43",
   "metadata": {},
   "outputs": [],
   "source": [
    "die_list2 = [fair, unfair, unfair]\n",
    "coingame2 = montecarlo.Game(die_list2)\n",
    "coingame2.play(1000)"
   ]
  },
  {
   "cell_type": "markdown",
   "id": "f690ebfc-fe71-4eb2-976d-7ac80ca6c23f",
   "metadata": {},
   "source": [
    "Task 4. For each game, use an Analyzer object to determine the raw frequency of jackpots — i.e. getting either all $H$s or all $T$s.\n",
    "\n",
    "- Analyzer objecs instantiated for both games (1).\n",
    "- Raw frequencies reported for both (1)."
   ]
  },
  {
   "cell_type": "code",
   "execution_count": 12,
   "id": "b26b8b7e-3be7-4476-a9a4-37d97536729e",
   "metadata": {},
   "outputs": [
    {
     "name": "stdout",
     "output_type": "stream",
     "text": [
      "Number of jackpots for 2 coin game: 497\n",
      "Number of jackpots for 3 coin game: 354\n"
     ]
    }
   ],
   "source": [
    "coin_analyze = montecarlo.Analyzer(coingame)\n",
    "coin_analyze2 = montecarlo.Analyzer(coingame2)\n",
    "jackpot1 = coin_analyze.count_jackpots()\n",
    "jackpot2 = coin_analyze2.count_jackpots()\n",
    "print(\"Number of jackpots for 2 coin game:\", jackpot1)\n",
    "print(\"Number of jackpots for 3 coin game:\", jackpot2)"
   ]
  },
  {
   "cell_type": "markdown",
   "id": "b73d233c-445e-40cd-8858-0c5e1f097105",
   "metadata": {},
   "source": [
    "Task 5. For each analyzer, compute relative frequency as the number of jackpots over the total number of rolls.\n",
    "\n",
    "- Both relative frequencies computed (1)."
   ]
  },
  {
   "cell_type": "code",
   "execution_count": 13,
   "id": "9a96b31b-1b9d-496e-be3e-4bf83c45ec3a",
   "metadata": {},
   "outputs": [
    {
     "name": "stdout",
     "output_type": "stream",
     "text": [
      "The relative frequency of jackpots for the 2 coin game is 0.497\n",
      "The realtive frequency of jackpots for the 3 coin game is 0.354\n"
     ]
    }
   ],
   "source": [
    "relative_freq1 = jackpot1/1000\n",
    "relative_freq2 = jackpot2/1000\n",
    "print(\"The relative frequency of jackpots for the 2 coin game is\", relative_freq1)\n",
    "print(\"The realtive frequency of jackpots for the 3 coin game is\", relative_freq2)"
   ]
  },
  {
   "cell_type": "markdown",
   "id": "a6e1e734-7f5c-4721-8ba4-2f3a424cf984",
   "metadata": {},
   "source": [
    "Task 6. Show your results, comparing the two relative frequencies, in a simple bar chart.\n",
    "\n",
    "- Bar chart plotted and correct (1)."
   ]
  },
  {
   "cell_type": "code",
   "execution_count": 14,
   "id": "473fa67c-aa53-4aa3-a0b7-e8772b3f6ed3",
   "metadata": {},
   "outputs": [
    {
     "data": {
      "text/plain": [
       "Text(0, 0.5, 'Relative Frequency')"
      ]
     },
     "execution_count": 14,
     "metadata": {},
     "output_type": "execute_result"
    },
    {
     "data": {
      "image/png": "[encoded data removed]",
      "text/plain": [
       "<Figure size 400x300 with 1 Axes>"
      ]
     },
     "metadata": {},
     "output_type": "display_data"
    }
   ],
   "source": [
    "import matplotlib.pyplot as plt\n",
    "\n",
    "freqs = [\"Coin Game 1 (2 coins)\", \"Coin Game 2 (3 coins)\"]\n",
    "values = [relative_freq1, relative_freq2]\n",
    "figure = plt.figure(figsize = (4,3))\n",
    "plt.bar(freqs, values, color ='blue', \n",
    "        width = 0.4)\n",
    "plt.title(\"Relative Frequency of Jackpots for Coin Games\")\n",
    "plt.ylabel(\"Relative Frequency\")"
   ]
  },
  {
   "cell_type": "markdown",
   "id": "725cfa5b-e4b7-47c9-86aa-8d9e1fe6c8c7",
   "metadata": {},
   "source": [
    "## Scenario 2: A 6-sided Die (9)\n",
    "\n",
    "Task 1. Create three dice, each with six sides having the faces 1 through 6.\n",
    "\n",
    "- Three die objects created (1)."
   ]
  },
  {
   "cell_type": "code",
   "execution_count": 15,
   "id": "6a8bc611-325a-4e05-88d5-980e0a2cf7c5",
   "metadata": {},
   "outputs": [],
   "source": [
    "die = np.array([1,2,3,4,5,6])\n",
    "die1 = montecarlo.Die(die)\n",
    "die2 = montecarlo.Die(die)\n",
    "die3 = montecarlo.Die(die)"
   ]
  },
  {
   "cell_type": "markdown",
   "id": "2ed3ad26-fbe9-43bd-9ad7-f683a4191d12",
   "metadata": {},
   "source": [
    "Task 2. Convert one of the dice to an unfair one by weighting the face $6$ five times more than the other weights (i.e. it has weight of 5 and the others a weight of 1 each).\n",
    "\n",
    "- Unfair die created with proper call to weight change method (1)."
   ]
  },
  {
   "cell_type": "code",
   "execution_count": 16,
   "id": "e33dd18f-7f90-456d-a680-61c08a328e21",
   "metadata": {},
   "outputs": [
    {
     "data": {
      "text/html": [
       "<div>\n",
       "<style scoped>\n",
       "    .dataframe tbody tr th:only-of-type {\n",
       "        vertical-align: middle;\n",
       "    }\n",
       "\n",
       "    .dataframe tbody tr th {\n",
       "        vertical-align: top;\n",
       "    }\n",
       "\n",
       "    .dataframe thead th {\n",
       "        text-align: right;\n",
       "    }\n",
       "</style>\n",
       "<table border=\"1\" class=\"dataframe\">\n",
       "  <thead>\n",
       "    <tr style=\"text-align: right;\">\n",
       "      <th></th>\n",
       "      <th>weights</th>\n",
       "    </tr>\n",
       "    <tr>\n",
       "      <th>side</th>\n",
       "      <th></th>\n",
       "    </tr>\n",
       "  </thead>\n",
       "  <tbody>\n",
       "    <tr>\n",
       "      <th>1</th>\n",
       "      <td>1</td>\n",
       "    </tr>\n",
       "    <tr>\n",
       "      <th>2</th>\n",
       "      <td>1</td>\n",
       "    </tr>\n",
       "    <tr>\n",
       "      <th>3</th>\n",
       "      <td>1</td>\n",
       "    </tr>\n",
       "    <tr>\n",
       "      <th>4</th>\n",
       "      <td>1</td>\n",
       "    </tr>\n",
       "    <tr>\n",
       "      <th>5</th>\n",
       "      <td>1</td>\n",
       "    </tr>\n",
       "    <tr>\n",
       "      <th>6</th>\n",
       "      <td>5</td>\n",
       "    </tr>\n",
       "  </tbody>\n",
       "</table>\n",
       "</div>"
      ],
      "text/plain": [
       "      weights\n",
       "side         \n",
       "1           1\n",
       "2           1\n",
       "3           1\n",
       "4           1\n",
       "5           1\n",
       "6           5"
      ]
     },
     "execution_count": 16,
     "metadata": {},
     "output_type": "execute_result"
    }
   ],
   "source": [
    "die1.change_weight(6,5)\n",
    "die1.get_current_state()"
   ]
  },
  {
   "cell_type": "markdown",
   "id": "7f6c062a-4c5b-45b9-96b8-76a0354c7e47",
   "metadata": {},
   "source": [
    "Task 3. Convert another of the dice to be unfair by weighting the face $1$ five times more than the others.\n",
    "\n",
    "- Unfair die created with proper call to weight change method (1)."
   ]
  },
  {
   "cell_type": "code",
   "execution_count": 17,
   "id": "01133a4e-6b06-4246-8d90-8e6d6995be51",
   "metadata": {},
   "outputs": [
    {
     "data": {
      "text/html": [
       "<div>\n",
       "<style scoped>\n",
       "    .dataframe tbody tr th:only-of-type {\n",
       "        vertical-align: middle;\n",
       "    }\n",
       "\n",
       "    .dataframe tbody tr th {\n",
       "        vertical-align: top;\n",
       "    }\n",
       "\n",
       "    .dataframe thead th {\n",
       "        text-align: right;\n",
       "    }\n",
       "</style>\n",
       "<table border=\"1\" class=\"dataframe\">\n",
       "  <thead>\n",
       "    <tr style=\"text-align: right;\">\n",
       "      <th></th>\n",
       "      <th>weights</th>\n",
       "    </tr>\n",
       "    <tr>\n",
       "      <th>side</th>\n",
       "      <th></th>\n",
       "    </tr>\n",
       "  </thead>\n",
       "  <tbody>\n",
       "    <tr>\n",
       "      <th>1</th>\n",
       "      <td>5</td>\n",
       "    </tr>\n",
       "    <tr>\n",
       "      <th>2</th>\n",
       "      <td>1</td>\n",
       "    </tr>\n",
       "    <tr>\n",
       "      <th>3</th>\n",
       "      <td>1</td>\n",
       "    </tr>\n",
       "    <tr>\n",
       "      <th>4</th>\n",
       "      <td>1</td>\n",
       "    </tr>\n",
       "    <tr>\n",
       "      <th>5</th>\n",
       "      <td>1</td>\n",
       "    </tr>\n",
       "    <tr>\n",
       "      <th>6</th>\n",
       "      <td>1</td>\n",
       "    </tr>\n",
       "  </tbody>\n",
       "</table>\n",
       "</div>"
      ],
      "text/plain": [
       "      weights\n",
       "side         \n",
       "1           5\n",
       "2           1\n",
       "3           1\n",
       "4           1\n",
       "5           1\n",
       "6           1"
      ]
     },
     "execution_count": 17,
     "metadata": {},
     "output_type": "execute_result"
    }
   ],
   "source": [
    "die2.change_weight(1,5)\n",
    "die2.get_current_state()"
   ]
  },
  {
   "cell_type": "markdown",
   "id": "f0ed31cb-0a3c-4eb2-b85e-6ed6b2eb6e58",
   "metadata": {},
   "source": [
    "Task 4. Play a game of $10000$ rolls with $5$ fair dice.\n",
    "\n",
    "- Game class properly instantiated (1). \n",
    "- Play method called properly (1)."
   ]
  },
  {
   "cell_type": "code",
   "execution_count": 18,
   "id": "e92395a4-9ed8-4cb0-8c85-38768a784ffc",
   "metadata": {},
   "outputs": [],
   "source": [
    "fair_dice_list = [die3]*5\n",
    "game1 = montecarlo.Game(fair_dice_list)\n",
    "game1.play(10000)"
   ]
  },
  {
   "cell_type": "markdown",
   "id": "7814b402-46a4-40e5-8141-20e05c3e646b",
   "metadata": {},
   "source": [
    "Task 5. Play another game of $10000$ rolls, this time with $2$ unfair dice, one as defined in steps #2 and #3 respectively, and $3$ fair dice.\n",
    "\n",
    "- Game class properly instantiated (1). \n",
    "- Play method called properly (1)."
   ]
  },
  {
   "cell_type": "code",
   "execution_count": 22,
   "id": "7cd58fba-b2a5-4d5d-bc6d-2a7a68d18c4f",
   "metadata": {},
   "outputs": [],
   "source": [
    "unfair_dice_list = [die1, die2, die3, die3, die3]\n",
    "game2 = montecarlo.Game(unfair_dice_list)\n",
    "game2.play(10000)"
   ]
  },
  {
   "cell_type": "markdown",
   "id": "7b6cd372-2bb8-4df8-ade1-8f48bc300955",
   "metadata": {},
   "source": [
    "Task 6. For each game, use an Analyzer object to determine the relative frequency of jackpots and show your results, comparing the two relative frequencies, in a simple bar chart.\n",
    "\n",
    "- Jackpot methods called (1).\n",
    "- Graph produced (1)."
   ]
  },
  {
   "cell_type": "code",
   "execution_count": 23,
   "id": "bbdcf695-8937-406e-9b53-aa0b9ee3c59a",
   "metadata": {},
   "outputs": [
    {
     "name": "stdout",
     "output_type": "stream",
     "text": [
      "The relative frequency of jackpots for the fair dice game is 0.0006\n",
      "The realtive frequency of jackpots for the unfair dice game is 0.0005\n"
     ]
    }
   ],
   "source": [
    "analyze1 = montecarlo.Analyzer(game1)\n",
    "analyze2 = montecarlo.Analyzer(game2)\n",
    "jackpot_dice1 = analyze1.count_jackpots()\n",
    "jackpot_dice2 = analyze2.count_jackpots()\n",
    "relative_freq_dice1 = jackpot_dice1/10000\n",
    "relative_freq_dice2 = jackpot_dice2/10000\n",
    "print(\"The relative frequency of jackpots for the fair dice game is\" , relative_freq_dice1)\n",
    "print(\"The realtive frequency of jackpots for the unfair dice game is\", relative_freq_dice2)"
   ]
  },
  {
   "cell_type": "code",
   "execution_count": 24,
   "id": "8d861b22-d2d0-43bd-87b0-136f04c0dffa",
   "metadata": {
    "tags": []
   },
   "outputs": [
    {
     "data": {
      "text/plain": [
       "Text(0, 0.5, 'Relative Frequency')"
      ]
     },
     "execution_count": 24,
     "metadata": {},
     "output_type": "execute_result"
    },
    {
     "data": {
      "image/png": "[encoded data removed]",
      "text/plain": [
       "<Figure size 400x300 with 1 Axes>"
      ]
     },
     "metadata": {},
     "output_type": "display_data"
    }
   ],
   "source": [
    "#graph relative frequencies\n",
    "freqs = [\"Fair Dice Game\", \"Unfair Dice Game\"]\n",
    "values = [relative_freq_dice1, relative_freq_dice2]\n",
    "figure = plt.figure(figsize = (4,3))\n",
    "plt.bar(freqs, values, color ='blue', \n",
    "        width = 0.4)\n",
    "plt.title(\"Relative Frequency of Jackpots for Dice Games\")\n",
    "plt.ylabel(\"Relative Frequency\")"
   ]
  },
  {
   "cell_type": "markdown",
   "id": "9f04e9be-8fcf-4ea4-a391-6614608285f8",
   "metadata": {},
   "source": [
    "## Scenario 3: Letters of the Alphabet (7)\n",
    "\n",
    "Task 1. Create a \"die\" of letters from $A$ to $Z$ with weights based on their frequency of usage as found in the data file `english_letters.txt`. Use the frequencies (i.e. raw counts) as weights.\n",
    "\n",
    "- Die correctly instantiated with source file data (1).\n",
    "- Weights properly applied using weight setting method (1)."
   ]
  },
  {
   "cell_type": "code",
   "execution_count": 27,
   "id": "b0ceb771-3cdf-4d8f-8c2c-020806bbb909",
   "metadata": {},
   "outputs": [],
   "source": [
    "alphabet = pd.read_fwf(\"english_letters.txt\",\n",
    "            widths=[1,11],\n",
    "            header = None)\n",
    "alpha_list = list(alphabet[0])\n",
    "value_list = alphabet[1].tolist()\n",
    "letters_arr = np.array(alpha_list)\n",
    "#call die class\n",
    "letter_die = montecarlo.Die(letters_arr)"
   ]
  },
  {
   "cell_type": "code",
   "execution_count": 28,
   "id": "24159f06-1d18-4e49-9665-76ecc7cc6214",
   "metadata": {
    "tags": []
   },
   "outputs": [
    {
     "data": {
      "text/html": [
       "<div>\n",
       "<style scoped>\n",
       "    .dataframe tbody tr th:only-of-type {\n",
       "        vertical-align: middle;\n",
       "    }\n",
       "\n",
       "    .dataframe tbody tr th {\n",
       "        vertical-align: top;\n",
       "    }\n",
       "\n",
       "    .dataframe thead th {\n",
       "        text-align: right;\n",
       "    }\n",
       "</style>\n",
       "<table border=\"1\" class=\"dataframe\">\n",
       "  <thead>\n",
       "    <tr style=\"text-align: right;\">\n",
       "      <th></th>\n",
       "      <th>weights</th>\n",
       "    </tr>\n",
       "    <tr>\n",
       "      <th>side</th>\n",
       "      <th></th>\n",
       "    </tr>\n",
       "  </thead>\n",
       "  <tbody>\n",
       "    <tr>\n",
       "      <th>E</th>\n",
       "      <td>529117365</td>\n",
       "    </tr>\n",
       "    <tr>\n",
       "      <th>T</th>\n",
       "      <td>390965105</td>\n",
       "    </tr>\n",
       "    <tr>\n",
       "      <th>A</th>\n",
       "      <td>374061888</td>\n",
       "    </tr>\n",
       "    <tr>\n",
       "      <th>O</th>\n",
       "      <td>326627740</td>\n",
       "    </tr>\n",
       "    <tr>\n",
       "      <th>I</th>\n",
       "      <td>320410057</td>\n",
       "    </tr>\n",
       "    <tr>\n",
       "      <th>N</th>\n",
       "      <td>313720540</td>\n",
       "    </tr>\n",
       "    <tr>\n",
       "      <th>S</th>\n",
       "      <td>294300210</td>\n",
       "    </tr>\n",
       "    <tr>\n",
       "      <th>R</th>\n",
       "      <td>277000841</td>\n",
       "    </tr>\n",
       "    <tr>\n",
       "      <th>H</th>\n",
       "      <td>216768975</td>\n",
       "    </tr>\n",
       "    <tr>\n",
       "      <th>L</th>\n",
       "      <td>183996130</td>\n",
       "    </tr>\n",
       "    <tr>\n",
       "      <th>D</th>\n",
       "      <td>169330528</td>\n",
       "    </tr>\n",
       "    <tr>\n",
       "      <th>C</th>\n",
       "      <td>138416451</td>\n",
       "    </tr>\n",
       "    <tr>\n",
       "      <th>U</th>\n",
       "      <td>117295780</td>\n",
       "    </tr>\n",
       "    <tr>\n",
       "      <th>M</th>\n",
       "      <td>110504544</td>\n",
       "    </tr>\n",
       "    <tr>\n",
       "      <th>F</th>\n",
       "      <td>95422055</td>\n",
       "    </tr>\n",
       "    <tr>\n",
       "      <th>G</th>\n",
       "      <td>91258980</td>\n",
       "    </tr>\n",
       "    <tr>\n",
       "      <th>P</th>\n",
       "      <td>90376747</td>\n",
       "    </tr>\n",
       "    <tr>\n",
       "      <th>W</th>\n",
       "      <td>79843664</td>\n",
       "    </tr>\n",
       "    <tr>\n",
       "      <th>Y</th>\n",
       "      <td>75294515</td>\n",
       "    </tr>\n",
       "    <tr>\n",
       "      <th>B</th>\n",
       "      <td>70195826</td>\n",
       "    </tr>\n",
       "    <tr>\n",
       "      <th>V</th>\n",
       "      <td>46337161</td>\n",
       "    </tr>\n",
       "    <tr>\n",
       "      <th>K</th>\n",
       "      <td>35373464</td>\n",
       "    </tr>\n",
       "    <tr>\n",
       "      <th>J</th>\n",
       "      <td>9613410</td>\n",
       "    </tr>\n",
       "    <tr>\n",
       "      <th>X</th>\n",
       "      <td>8369915</td>\n",
       "    </tr>\n",
       "    <tr>\n",
       "      <th>Z</th>\n",
       "      <td>4975847</td>\n",
       "    </tr>\n",
       "    <tr>\n",
       "      <th>Q</th>\n",
       "      <td>4550166</td>\n",
       "    </tr>\n",
       "  </tbody>\n",
       "</table>\n",
       "</div>"
      ],
      "text/plain": [
       "        weights\n",
       "side           \n",
       "E     529117365\n",
       "T     390965105\n",
       "A     374061888\n",
       "O     326627740\n",
       "I     320410057\n",
       "N     313720540\n",
       "S     294300210\n",
       "R     277000841\n",
       "H     216768975\n",
       "L     183996130\n",
       "D     169330528\n",
       "C     138416451\n",
       "U     117295780\n",
       "M     110504544\n",
       "F      95422055\n",
       "G      91258980\n",
       "P      90376747\n",
       "W      79843664\n",
       "Y      75294515\n",
       "B      70195826\n",
       "V      46337161\n",
       "K      35373464\n",
       "J       9613410\n",
       "X       8369915\n",
       "Z       4975847\n",
       "Q       4550166"
      ]
     },
     "execution_count": 28,
     "metadata": {},
     "output_type": "execute_result"
    }
   ],
   "source": [
    "for i in range(len(alphabet)):\n",
    "    letter_die.change_weight(alpha_list[i], value_list[i])\n",
    "letter_die.get_current_state()"
   ]
  },
  {
   "cell_type": "markdown",
   "id": "88e2e14a-6223-470a-a2c8-bca1120d7a5b",
   "metadata": {},
   "source": [
    "Task 2. Play a game involving $4$ of these dice with $1000$ rolls.\n",
    "\n",
    "- Game play method properly called (1)."
   ]
  },
  {
   "cell_type": "code",
   "execution_count": 29,
   "id": "2ae087cc-936d-4f1e-bddb-a7c179d139e0",
   "metadata": {},
   "outputs": [],
   "source": [
    "letter_dice_list = [letter_die]*4\n",
    "letter_game = montecarlo.Game(letter_dice_list)\n",
    "letter_game.play(1000)"
   ]
  },
  {
   "cell_type": "markdown",
   "id": "3b9ff800-bf1f-4f66-9d7f-ff57a648e9f0",
   "metadata": {},
   "source": [
    "Task 3. Determine how many permutations in your results are actual English words, based on the vocabulary found in `scrabble_words.txt`.\n",
    "\n",
    "- Use permutation method (1).\n",
    "- Get count as difference between permutations and vocabulary (1)."
   ]
  },
  {
   "cell_type": "code",
   "execution_count": 30,
   "id": "ed1c7fa0-cfa3-4cf4-9fd0-9f84b86b0f64",
   "metadata": {},
   "outputs": [],
   "source": [
    "#read in scrabble words and convert it to a list\n",
    "words = pd.read_csv(\"scrabble_words.txt\",\n",
    "                    header=None)\n",
    "word_list = words[0].tolist()"
   ]
  },
  {
   "cell_type": "code",
   "execution_count": 31,
   "id": "7918bb06-cd8b-4a43-a76c-1a7c145f0fee",
   "metadata": {
    "tags": []
   },
   "outputs": [
    {
     "name": "stdout",
     "output_type": "stream",
     "text": [
      "There are 989 permutations in the word game with 4 dice.\n"
     ]
    }
   ],
   "source": [
    "#use analyzer class to get the permutations\n",
    "word_analyzer = montecarlo.Analyzer(letter_game)\n",
    "word_permutation_count = word_analyzer.count_permutations()\n",
    "print(\"There are\", len(word_permutation_count), \"permutations in the word game with 4 dice.\" )"
   ]
  },
  {
   "cell_type": "code",
   "execution_count": 32,
   "id": "c196287d-b150-4799-b981-ec4c6469c2bf",
   "metadata": {
    "tags": []
   },
   "outputs": [],
   "source": [
    "#convert multiindex from permutation dataframe to list of strings\n",
    "perms = pd.MultiIndex.to_flat_index(word_permutation_count.index)\n",
    "perm_strings = list(range(len(word_permutation_count)))\n",
    "for z in range(len(perms)):\n",
    "    perm_strings[z] = perms[z][0]+perms[z][1]+perms[z][2]+perms[z][3]"
   ]
  },
  {
   "cell_type": "code",
   "execution_count": 33,
   "id": "ed72d78e-3200-4bf5-b75b-29dab5d0de37",
   "metadata": {
    "tags": []
   },
   "outputs": [
    {
     "data": {
      "text/plain": [
       "62"
      ]
     },
     "execution_count": 33,
     "metadata": {},
     "output_type": "execute_result"
    }
   ],
   "source": [
    "#use for loop to get word count for words found in the permutations\n",
    "word_count= 0 \n",
    "for x in range(len(perm_strings)):\n",
    "    if perm_strings[x] in word_list:\n",
    "        word_count += 1\n",
    "    else:\n",
    "        word_count+=0\n",
    "word_count"
   ]
  },
  {
   "cell_type": "code",
   "execution_count": 34,
   "id": "fc16cc04-0169-4533-85a0-1f1ef4ecf535",
   "metadata": {
    "tags": []
   },
   "outputs": [
    {
     "name": "stdout",
     "output_type": "stream",
     "text": [
      "There are 62 unique words out of 989 permutations. 927 of the permutations are not words.\n"
     ]
    }
   ],
   "source": [
    "diff = len(word_permutation_count) - word_count\n",
    "print(\"There are\", word_count, \"unique words out of\", len(word_permutation_count), \"permutations.\", diff, \"of the permutations are not words.\")"
   ]
  },
  {
   "cell_type": "markdown",
   "id": "fcf068cf-381a-4b3e-ac3a-0510eb4dbdb0",
   "metadata": {},
   "source": [
    "Task 4. Repeat steps #2 and #3, this time with $5$ dice. How many actual words does this produce? Which produces more?\n",
    "\n",
    "- Successfully repreats steps (1).\n",
    "- Identifies parameter with most found words (1)."
   ]
  },
  {
   "cell_type": "code",
   "execution_count": 40,
   "id": "69609691-26f0-4232-a99b-48166c5de636",
   "metadata": {
    "tags": []
   },
   "outputs": [],
   "source": [
    "#play game with 5 dice\n",
    "letter_dice_list2 = [letter_die]*5\n",
    "letter_game2 = montecarlo.Game(letter_dice_list2)\n",
    "letter_game2.play(1000)"
   ]
  },
  {
   "cell_type": "code",
   "execution_count": 41,
   "id": "873d62a0-da7a-4250-ad47-34ea67cbfa72",
   "metadata": {
    "tags": []
   },
   "outputs": [
    {
     "name": "stdout",
     "output_type": "stream",
     "text": [
      "There are 999 permutations in the word game with 5 dice.\n"
     ]
    }
   ],
   "source": [
    "#count the permutations\n",
    "word_analyzer2 = montecarlo.Analyzer(letter_game2)\n",
    "word_permutation_count2 = word_analyzer2.count_permutations()\n",
    "print(\"There are\", len(word_permutation_count2), \"permutations in the word game with 5 dice.\" )"
   ]
  },
  {
   "cell_type": "code",
   "execution_count": 42,
   "id": "685670ad-7493-416b-8859-888c85c34938",
   "metadata": {
    "tags": []
   },
   "outputs": [],
   "source": [
    "#turn multiindex into list of strings so we can search for words\n",
    "perms2 = pd.MultiIndex.to_flat_index(word_permutation_count2.index)\n",
    "perm_strings2 = list(range(len(word_permutation_count2)))\n",
    "for z in range(len(perms2)):\n",
    "    perm_strings2[z] = perms2[z][0]+perms2[z][1]+perms2[z][2]+perms2[z][3]"
   ]
  },
  {
   "cell_type": "code",
   "execution_count": 43,
   "id": "bd120033-e99f-42f4-8772-b308749d4b6d",
   "metadata": {
    "tags": []
   },
   "outputs": [
    {
     "data": {
      "text/plain": [
       "45"
      ]
     },
     "execution_count": 43,
     "metadata": {},
     "output_type": "execute_result"
    }
   ],
   "source": [
    "#use for loop to look for permutations in the scrabble words list\n",
    "word_count2= 0 \n",
    "for x in range(len(perm_strings2)):\n",
    "    if perm_strings2[x] in word_list:\n",
    "        word_count2 += 1\n",
    "    else:\n",
    "        word_count2+=0\n",
    "word_count2"
   ]
  },
  {
   "cell_type": "code",
   "execution_count": 44,
   "id": "a6137cdd-627d-460c-aff5-512dfad65457",
   "metadata": {
    "tags": []
   },
   "outputs": [
    {
     "name": "stdout",
     "output_type": "stream",
     "text": [
      "There are 45 unique words out of 999 permutations. 954 of the permutations are not words.\n"
     ]
    }
   ],
   "source": [
    "#get difference between permutations and words\n",
    "diff2 = len(word_permutation_count2) - word_count2\n",
    "print(\"There are\", word_count2, \"unique words out of\", len(word_permutation_count2), \"permutations.\", diff2, \"of the permutations are not words.\")"
   ]
  },
  {
   "cell_type": "code",
   "execution_count": 45,
   "id": "9a3c80ce-f918-45d6-a45f-c3040163306a",
   "metadata": {
    "tags": []
   },
   "outputs": [
    {
     "name": "stdout",
     "output_type": "stream",
     "text": [
      "More words are found in the game with 4 dice than in the game with 5.\n"
     ]
    }
   ],
   "source": [
    "#compare number of words found in game with 4 dice to game with 5 dice\n",
    "if word_count>word_count2:\n",
    "    print(\"More words are found in the game with 4 dice than in the game with 5.\")\n",
    "elif word_count2>word_count:\n",
    "    print(\"More words are found in the game with 5 dice than in the game with 4.\")\n",
    "else:\n",
    "    print(\"Equal numbers of words were found in both games.\")"
   ]
  }
 ],
 "metadata": {
  "kernelspec": {
   "display_name": "Python 3 (ipykernel)",
   "language": "python",
   "name": "python3"
  },
  "language_info": {
   "codemirror_mode": {
    "name": "ipython",
    "version": 3
   },
   "file_extension": ".py",
   "mimetype": "text/x-python",
   "name": "python",
   "nbconvert_exporter": "python",
   "pygments_lexer": "ipython3",
   "version": "3.11.4"
  },
  "toc-autonumbering": true,
  "widgets": {
   "application/vnd.jupyter.widget-state+json": {
    "state": {},
    "version_major": 2,
    "version_minor": 0
   }
  }
 },
 "nbformat": 4,
 "nbformat_minor": 5
}
